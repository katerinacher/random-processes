{
  "nbformat": 4,
  "nbformat_minor": 0,
  "metadata": {
    "colab": {
      "provenance": []
    },
    "kernelspec": {
      "name": "python3",
      "display_name": "Python 3"
    },
    "language_info": {
      "name": "python"
    }
  },
  "cells": [
    {
      "cell_type": "code",
      "execution_count": null,
      "metadata": {
        "id": "AOsaawRzxmaB"
      },
      "outputs": [],
      "source": [
        "import numpy as np\n",
        "import statistics as st\n",
        "import pandas as pd\n",
        "import math\n",
        "import matplotlib.pyplot as plt\n",
        "import scipy.stats"
      ]
    },
    {
      "cell_type": "code",
      "source": [
        "T = 10\n",
        "n = 100\n",
        "h = 0.05\n",
        "k = int((T - 0) / h)\n",
        "\n",
        "def _m(t):\n",
        "  return (1 + math.exp(-t / 2))\n",
        "\n",
        "def K(tau):\n",
        "  return (3 / (3 + 20 * tau**2))\n",
        "\n",
        "k"
      ],
      "metadata": {
        "colab": {
          "base_uri": "https://localhost:8080/"
        },
        "id": "kfhYNRUzyEcM",
        "outputId": "5ecde28f-250b-493e-fd17-fa945c3f5376"
      },
      "execution_count": null,
      "outputs": [
        {
          "output_type": "execute_result",
          "data": {
            "text/plain": [
              "200"
            ]
          },
          "metadata": {},
          "execution_count": 314
        }
      ]
    },
    {
      "cell_type": "markdown",
      "source": [
        "Вектор математических ожиданий m и ковариационная матрица sigma"
      ],
      "metadata": {
        "id": "ToxwFIewn7aR"
      }
    },
    {
      "cell_type": "code",
      "source": [
        "m = np.zeros(k+1)\n",
        "sigma = [[0] * (k+1) for i in range(k+1)]\n",
        "\n",
        "for i in range(k+1):\n",
        "  m[i] = _m(i * h)\n",
        "\n",
        "for i in range(k+1):\n",
        "  for j in range(k+1):\n",
        "    sigma[i][j] = K(math.fabs(i - j) * h)\n",
        "\n",
        "m_visual = pd.DataFrame(m)\n",
        "m_visual"
      ],
      "metadata": {
        "id": "UQIhZT_Fyzbl",
        "colab": {
          "base_uri": "https://localhost:8080/",
          "height": 423
        },
        "outputId": "07b7fcd3-02ea-484a-b600-6415e63736bd"
      },
      "execution_count": null,
      "outputs": [
        {
          "output_type": "execute_result",
          "data": {
            "text/plain": [
              "            0\n",
              "0    2.000000\n",
              "1    1.975310\n",
              "2    1.951229\n",
              "3    1.927743\n",
              "4    1.904837\n",
              "..        ...\n",
              "196  1.007447\n",
              "197  1.007263\n",
              "198  1.007083\n",
              "199  1.006909\n",
              "200  1.006738\n",
              "\n",
              "[201 rows x 1 columns]"
            ],
            "text/html": [
              "\n",
              "  <div id=\"df-2d5dacf6-89db-4ccc-9cdd-756a6eaf4d92\">\n",
              "    <div class=\"colab-df-container\">\n",
              "      <div>\n",
              "<style scoped>\n",
              "    .dataframe tbody tr th:only-of-type {\n",
              "        vertical-align: middle;\n",
              "    }\n",
              "\n",
              "    .dataframe tbody tr th {\n",
              "        vertical-align: top;\n",
              "    }\n",
              "\n",
              "    .dataframe thead th {\n",
              "        text-align: right;\n",
              "    }\n",
              "</style>\n",
              "<table border=\"1\" class=\"dataframe\">\n",
              "  <thead>\n",
              "    <tr style=\"text-align: right;\">\n",
              "      <th></th>\n",
              "      <th>0</th>\n",
              "    </tr>\n",
              "  </thead>\n",
              "  <tbody>\n",
              "    <tr>\n",
              "      <th>0</th>\n",
              "      <td>2.000000</td>\n",
              "    </tr>\n",
              "    <tr>\n",
              "      <th>1</th>\n",
              "      <td>1.975310</td>\n",
              "    </tr>\n",
              "    <tr>\n",
              "      <th>2</th>\n",
              "      <td>1.951229</td>\n",
              "    </tr>\n",
              "    <tr>\n",
              "      <th>3</th>\n",
              "      <td>1.927743</td>\n",
              "    </tr>\n",
              "    <tr>\n",
              "      <th>4</th>\n",
              "      <td>1.904837</td>\n",
              "    </tr>\n",
              "    <tr>\n",
              "      <th>...</th>\n",
              "      <td>...</td>\n",
              "    </tr>\n",
              "    <tr>\n",
              "      <th>196</th>\n",
              "      <td>1.007447</td>\n",
              "    </tr>\n",
              "    <tr>\n",
              "      <th>197</th>\n",
              "      <td>1.007263</td>\n",
              "    </tr>\n",
              "    <tr>\n",
              "      <th>198</th>\n",
              "      <td>1.007083</td>\n",
              "    </tr>\n",
              "    <tr>\n",
              "      <th>199</th>\n",
              "      <td>1.006909</td>\n",
              "    </tr>\n",
              "    <tr>\n",
              "      <th>200</th>\n",
              "      <td>1.006738</td>\n",
              "    </tr>\n",
              "  </tbody>\n",
              "</table>\n",
              "<p>201 rows × 1 columns</p>\n",
              "</div>\n",
              "      <button class=\"colab-df-convert\" onclick=\"convertToInteractive('df-2d5dacf6-89db-4ccc-9cdd-756a6eaf4d92')\"\n",
              "              title=\"Convert this dataframe to an interactive table.\"\n",
              "              style=\"display:none;\">\n",
              "        \n",
              "  <svg xmlns=\"http://www.w3.org/2000/svg\" height=\"24px\"viewBox=\"0 0 24 24\"\n",
              "       width=\"24px\">\n",
              "    <path d=\"M0 0h24v24H0V0z\" fill=\"none\"/>\n",
              "    <path d=\"M18.56 5.44l.94 2.06.94-2.06 2.06-.94-2.06-.94-.94-2.06-.94 2.06-2.06.94zm-11 1L8.5 8.5l.94-2.06 2.06-.94-2.06-.94L8.5 2.5l-.94 2.06-2.06.94zm10 10l.94 2.06.94-2.06 2.06-.94-2.06-.94-.94-2.06-.94 2.06-2.06.94z\"/><path d=\"M17.41 7.96l-1.37-1.37c-.4-.4-.92-.59-1.43-.59-.52 0-1.04.2-1.43.59L10.3 9.45l-7.72 7.72c-.78.78-.78 2.05 0 2.83L4 21.41c.39.39.9.59 1.41.59.51 0 1.02-.2 1.41-.59l7.78-7.78 2.81-2.81c.8-.78.8-2.07 0-2.86zM5.41 20L4 18.59l7.72-7.72 1.47 1.35L5.41 20z\"/>\n",
              "  </svg>\n",
              "      </button>\n",
              "      \n",
              "  <style>\n",
              "    .colab-df-container {\n",
              "      display:flex;\n",
              "      flex-wrap:wrap;\n",
              "      gap: 12px;\n",
              "    }\n",
              "\n",
              "    .colab-df-convert {\n",
              "      background-color: #E8F0FE;\n",
              "      border: none;\n",
              "      border-radius: 50%;\n",
              "      cursor: pointer;\n",
              "      display: none;\n",
              "      fill: #1967D2;\n",
              "      height: 32px;\n",
              "      padding: 0 0 0 0;\n",
              "      width: 32px;\n",
              "    }\n",
              "\n",
              "    .colab-df-convert:hover {\n",
              "      background-color: #E2EBFA;\n",
              "      box-shadow: 0px 1px 2px rgba(60, 64, 67, 0.3), 0px 1px 3px 1px rgba(60, 64, 67, 0.15);\n",
              "      fill: #174EA6;\n",
              "    }\n",
              "\n",
              "    [theme=dark] .colab-df-convert {\n",
              "      background-color: #3B4455;\n",
              "      fill: #D2E3FC;\n",
              "    }\n",
              "\n",
              "    [theme=dark] .colab-df-convert:hover {\n",
              "      background-color: #434B5C;\n",
              "      box-shadow: 0px 1px 3px 1px rgba(0, 0, 0, 0.15);\n",
              "      filter: drop-shadow(0px 1px 2px rgba(0, 0, 0, 0.3));\n",
              "      fill: #FFFFFF;\n",
              "    }\n",
              "  </style>\n",
              "\n",
              "      <script>\n",
              "        const buttonEl =\n",
              "          document.querySelector('#df-2d5dacf6-89db-4ccc-9cdd-756a6eaf4d92 button.colab-df-convert');\n",
              "        buttonEl.style.display =\n",
              "          google.colab.kernel.accessAllowed ? 'block' : 'none';\n",
              "\n",
              "        async function convertToInteractive(key) {\n",
              "          const element = document.querySelector('#df-2d5dacf6-89db-4ccc-9cdd-756a6eaf4d92');\n",
              "          const dataTable =\n",
              "            await google.colab.kernel.invokeFunction('convertToInteractive',\n",
              "                                                     [key], {});\n",
              "          if (!dataTable) return;\n",
              "\n",
              "          const docLinkHtml = 'Like what you see? Visit the ' +\n",
              "            '<a target=\"_blank\" href=https://colab.research.google.com/notebooks/data_table.ipynb>data table notebook</a>'\n",
              "            + ' to learn more about interactive tables.';\n",
              "          element.innerHTML = '';\n",
              "          dataTable['output_type'] = 'display_data';\n",
              "          await google.colab.output.renderOutput(dataTable, element);\n",
              "          const docLink = document.createElement('div');\n",
              "          docLink.innerHTML = docLinkHtml;\n",
              "          element.appendChild(docLink);\n",
              "        }\n",
              "      </script>\n",
              "    </div>\n",
              "  </div>\n",
              "  "
            ]
          },
          "metadata": {},
          "execution_count": 315
        }
      ]
    },
    {
      "cell_type": "code",
      "source": [
        "sigma_visual = pd.DataFrame(sigma)\n",
        "sigma_visual"
      ],
      "metadata": {
        "colab": {
          "base_uri": "https://localhost:8080/",
          "height": 487
        },
        "id": "8nw5aJbV1-by",
        "outputId": "1971bbf7-c35c-4109-ffe3-5fed80330606"
      },
      "execution_count": null,
      "outputs": [
        {
          "output_type": "execute_result",
          "data": {
            "text/plain": [
              "          0         1         2         3         4         5         6    \\\n",
              "0    1.000000  0.983607  0.937500  0.869565  0.789474  0.705882  0.625000   \n",
              "1    0.983607  1.000000  0.983607  0.937500  0.869565  0.789474  0.705882   \n",
              "2    0.937500  0.983607  1.000000  0.983607  0.937500  0.869565  0.789474   \n",
              "3    0.869565  0.937500  0.983607  1.000000  0.983607  0.937500  0.869565   \n",
              "4    0.789474  0.869565  0.937500  0.983607  1.000000  0.983607  0.937500   \n",
              "..        ...       ...       ...       ...       ...       ...       ...   \n",
              "196  0.001559  0.001575  0.001592  0.001608  0.001625  0.001642  0.001659   \n",
              "197  0.001544  0.001559  0.001575  0.001592  0.001608  0.001625  0.001642   \n",
              "198  0.001528  0.001544  0.001559  0.001575  0.001592  0.001608  0.001625   \n",
              "199  0.001513  0.001528  0.001544  0.001559  0.001575  0.001592  0.001608   \n",
              "200  0.001498  0.001513  0.001528  0.001544  0.001559  0.001575  0.001592   \n",
              "\n",
              "          7         8         9    ...       191       192       193  \\\n",
              "0    0.550459  0.483871  0.425532  ...  0.001642  0.001625  0.001608   \n",
              "1    0.625000  0.550459  0.483871  ...  0.001659  0.001642  0.001625   \n",
              "2    0.705882  0.625000  0.550459  ...  0.001677  0.001659  0.001642   \n",
              "3    0.789474  0.705882  0.625000  ...  0.001695  0.001677  0.001659   \n",
              "4    0.869565  0.789474  0.705882  ...  0.001713  0.001695  0.001677   \n",
              "..        ...       ...       ...  ...       ...       ...       ...   \n",
              "196  0.001677  0.001695  0.001713  ...  0.705882  0.789474  0.869565   \n",
              "197  0.001659  0.001677  0.001695  ...  0.625000  0.705882  0.789474   \n",
              "198  0.001642  0.001659  0.001677  ...  0.550459  0.625000  0.705882   \n",
              "199  0.001625  0.001642  0.001659  ...  0.483871  0.550459  0.625000   \n",
              "200  0.001608  0.001625  0.001642  ...  0.425532  0.483871  0.550459   \n",
              "\n",
              "          194       195       196       197       198       199       200  \n",
              "0    0.001592  0.001575  0.001559  0.001544  0.001528  0.001513  0.001498  \n",
              "1    0.001608  0.001592  0.001575  0.001559  0.001544  0.001528  0.001513  \n",
              "2    0.001625  0.001608  0.001592  0.001575  0.001559  0.001544  0.001528  \n",
              "3    0.001642  0.001625  0.001608  0.001592  0.001575  0.001559  0.001544  \n",
              "4    0.001659  0.001642  0.001625  0.001608  0.001592  0.001575  0.001559  \n",
              "..        ...       ...       ...       ...       ...       ...       ...  \n",
              "196  0.937500  0.983607  1.000000  0.983607  0.937500  0.869565  0.789474  \n",
              "197  0.869565  0.937500  0.983607  1.000000  0.983607  0.937500  0.869565  \n",
              "198  0.789474  0.869565  0.937500  0.983607  1.000000  0.983607  0.937500  \n",
              "199  0.705882  0.789474  0.869565  0.937500  0.983607  1.000000  0.983607  \n",
              "200  0.625000  0.705882  0.789474  0.869565  0.937500  0.983607  1.000000  \n",
              "\n",
              "[201 rows x 201 columns]"
            ],
            "text/html": [
              "\n",
              "  <div id=\"df-fae6bec6-dfbf-4a2d-b7ef-a42d0ffbbce7\">\n",
              "    <div class=\"colab-df-container\">\n",
              "      <div>\n",
              "<style scoped>\n",
              "    .dataframe tbody tr th:only-of-type {\n",
              "        vertical-align: middle;\n",
              "    }\n",
              "\n",
              "    .dataframe tbody tr th {\n",
              "        vertical-align: top;\n",
              "    }\n",
              "\n",
              "    .dataframe thead th {\n",
              "        text-align: right;\n",
              "    }\n",
              "</style>\n",
              "<table border=\"1\" class=\"dataframe\">\n",
              "  <thead>\n",
              "    <tr style=\"text-align: right;\">\n",
              "      <th></th>\n",
              "      <th>0</th>\n",
              "      <th>1</th>\n",
              "      <th>2</th>\n",
              "      <th>3</th>\n",
              "      <th>4</th>\n",
              "      <th>5</th>\n",
              "      <th>6</th>\n",
              "      <th>7</th>\n",
              "      <th>8</th>\n",
              "      <th>9</th>\n",
              "      <th>...</th>\n",
              "      <th>191</th>\n",
              "      <th>192</th>\n",
              "      <th>193</th>\n",
              "      <th>194</th>\n",
              "      <th>195</th>\n",
              "      <th>196</th>\n",
              "      <th>197</th>\n",
              "      <th>198</th>\n",
              "      <th>199</th>\n",
              "      <th>200</th>\n",
              "    </tr>\n",
              "  </thead>\n",
              "  <tbody>\n",
              "    <tr>\n",
              "      <th>0</th>\n",
              "      <td>1.000000</td>\n",
              "      <td>0.983607</td>\n",
              "      <td>0.937500</td>\n",
              "      <td>0.869565</td>\n",
              "      <td>0.789474</td>\n",
              "      <td>0.705882</td>\n",
              "      <td>0.625000</td>\n",
              "      <td>0.550459</td>\n",
              "      <td>0.483871</td>\n",
              "      <td>0.425532</td>\n",
              "      <td>...</td>\n",
              "      <td>0.001642</td>\n",
              "      <td>0.001625</td>\n",
              "      <td>0.001608</td>\n",
              "      <td>0.001592</td>\n",
              "      <td>0.001575</td>\n",
              "      <td>0.001559</td>\n",
              "      <td>0.001544</td>\n",
              "      <td>0.001528</td>\n",
              "      <td>0.001513</td>\n",
              "      <td>0.001498</td>\n",
              "    </tr>\n",
              "    <tr>\n",
              "      <th>1</th>\n",
              "      <td>0.983607</td>\n",
              "      <td>1.000000</td>\n",
              "      <td>0.983607</td>\n",
              "      <td>0.937500</td>\n",
              "      <td>0.869565</td>\n",
              "      <td>0.789474</td>\n",
              "      <td>0.705882</td>\n",
              "      <td>0.625000</td>\n",
              "      <td>0.550459</td>\n",
              "      <td>0.483871</td>\n",
              "      <td>...</td>\n",
              "      <td>0.001659</td>\n",
              "      <td>0.001642</td>\n",
              "      <td>0.001625</td>\n",
              "      <td>0.001608</td>\n",
              "      <td>0.001592</td>\n",
              "      <td>0.001575</td>\n",
              "      <td>0.001559</td>\n",
              "      <td>0.001544</td>\n",
              "      <td>0.001528</td>\n",
              "      <td>0.001513</td>\n",
              "    </tr>\n",
              "    <tr>\n",
              "      <th>2</th>\n",
              "      <td>0.937500</td>\n",
              "      <td>0.983607</td>\n",
              "      <td>1.000000</td>\n",
              "      <td>0.983607</td>\n",
              "      <td>0.937500</td>\n",
              "      <td>0.869565</td>\n",
              "      <td>0.789474</td>\n",
              "      <td>0.705882</td>\n",
              "      <td>0.625000</td>\n",
              "      <td>0.550459</td>\n",
              "      <td>...</td>\n",
              "      <td>0.001677</td>\n",
              "      <td>0.001659</td>\n",
              "      <td>0.001642</td>\n",
              "      <td>0.001625</td>\n",
              "      <td>0.001608</td>\n",
              "      <td>0.001592</td>\n",
              "      <td>0.001575</td>\n",
              "      <td>0.001559</td>\n",
              "      <td>0.001544</td>\n",
              "      <td>0.001528</td>\n",
              "    </tr>\n",
              "    <tr>\n",
              "      <th>3</th>\n",
              "      <td>0.869565</td>\n",
              "      <td>0.937500</td>\n",
              "      <td>0.983607</td>\n",
              "      <td>1.000000</td>\n",
              "      <td>0.983607</td>\n",
              "      <td>0.937500</td>\n",
              "      <td>0.869565</td>\n",
              "      <td>0.789474</td>\n",
              "      <td>0.705882</td>\n",
              "      <td>0.625000</td>\n",
              "      <td>...</td>\n",
              "      <td>0.001695</td>\n",
              "      <td>0.001677</td>\n",
              "      <td>0.001659</td>\n",
              "      <td>0.001642</td>\n",
              "      <td>0.001625</td>\n",
              "      <td>0.001608</td>\n",
              "      <td>0.001592</td>\n",
              "      <td>0.001575</td>\n",
              "      <td>0.001559</td>\n",
              "      <td>0.001544</td>\n",
              "    </tr>\n",
              "    <tr>\n",
              "      <th>4</th>\n",
              "      <td>0.789474</td>\n",
              "      <td>0.869565</td>\n",
              "      <td>0.937500</td>\n",
              "      <td>0.983607</td>\n",
              "      <td>1.000000</td>\n",
              "      <td>0.983607</td>\n",
              "      <td>0.937500</td>\n",
              "      <td>0.869565</td>\n",
              "      <td>0.789474</td>\n",
              "      <td>0.705882</td>\n",
              "      <td>...</td>\n",
              "      <td>0.001713</td>\n",
              "      <td>0.001695</td>\n",
              "      <td>0.001677</td>\n",
              "      <td>0.001659</td>\n",
              "      <td>0.001642</td>\n",
              "      <td>0.001625</td>\n",
              "      <td>0.001608</td>\n",
              "      <td>0.001592</td>\n",
              "      <td>0.001575</td>\n",
              "      <td>0.001559</td>\n",
              "    </tr>\n",
              "    <tr>\n",
              "      <th>...</th>\n",
              "      <td>...</td>\n",
              "      <td>...</td>\n",
              "      <td>...</td>\n",
              "      <td>...</td>\n",
              "      <td>...</td>\n",
              "      <td>...</td>\n",
              "      <td>...</td>\n",
              "      <td>...</td>\n",
              "      <td>...</td>\n",
              "      <td>...</td>\n",
              "      <td>...</td>\n",
              "      <td>...</td>\n",
              "      <td>...</td>\n",
              "      <td>...</td>\n",
              "      <td>...</td>\n",
              "      <td>...</td>\n",
              "      <td>...</td>\n",
              "      <td>...</td>\n",
              "      <td>...</td>\n",
              "      <td>...</td>\n",
              "      <td>...</td>\n",
              "    </tr>\n",
              "    <tr>\n",
              "      <th>196</th>\n",
              "      <td>0.001559</td>\n",
              "      <td>0.001575</td>\n",
              "      <td>0.001592</td>\n",
              "      <td>0.001608</td>\n",
              "      <td>0.001625</td>\n",
              "      <td>0.001642</td>\n",
              "      <td>0.001659</td>\n",
              "      <td>0.001677</td>\n",
              "      <td>0.001695</td>\n",
              "      <td>0.001713</td>\n",
              "      <td>...</td>\n",
              "      <td>0.705882</td>\n",
              "      <td>0.789474</td>\n",
              "      <td>0.869565</td>\n",
              "      <td>0.937500</td>\n",
              "      <td>0.983607</td>\n",
              "      <td>1.000000</td>\n",
              "      <td>0.983607</td>\n",
              "      <td>0.937500</td>\n",
              "      <td>0.869565</td>\n",
              "      <td>0.789474</td>\n",
              "    </tr>\n",
              "    <tr>\n",
              "      <th>197</th>\n",
              "      <td>0.001544</td>\n",
              "      <td>0.001559</td>\n",
              "      <td>0.001575</td>\n",
              "      <td>0.001592</td>\n",
              "      <td>0.001608</td>\n",
              "      <td>0.001625</td>\n",
              "      <td>0.001642</td>\n",
              "      <td>0.001659</td>\n",
              "      <td>0.001677</td>\n",
              "      <td>0.001695</td>\n",
              "      <td>...</td>\n",
              "      <td>0.625000</td>\n",
              "      <td>0.705882</td>\n",
              "      <td>0.789474</td>\n",
              "      <td>0.869565</td>\n",
              "      <td>0.937500</td>\n",
              "      <td>0.983607</td>\n",
              "      <td>1.000000</td>\n",
              "      <td>0.983607</td>\n",
              "      <td>0.937500</td>\n",
              "      <td>0.869565</td>\n",
              "    </tr>\n",
              "    <tr>\n",
              "      <th>198</th>\n",
              "      <td>0.001528</td>\n",
              "      <td>0.001544</td>\n",
              "      <td>0.001559</td>\n",
              "      <td>0.001575</td>\n",
              "      <td>0.001592</td>\n",
              "      <td>0.001608</td>\n",
              "      <td>0.001625</td>\n",
              "      <td>0.001642</td>\n",
              "      <td>0.001659</td>\n",
              "      <td>0.001677</td>\n",
              "      <td>...</td>\n",
              "      <td>0.550459</td>\n",
              "      <td>0.625000</td>\n",
              "      <td>0.705882</td>\n",
              "      <td>0.789474</td>\n",
              "      <td>0.869565</td>\n",
              "      <td>0.937500</td>\n",
              "      <td>0.983607</td>\n",
              "      <td>1.000000</td>\n",
              "      <td>0.983607</td>\n",
              "      <td>0.937500</td>\n",
              "    </tr>\n",
              "    <tr>\n",
              "      <th>199</th>\n",
              "      <td>0.001513</td>\n",
              "      <td>0.001528</td>\n",
              "      <td>0.001544</td>\n",
              "      <td>0.001559</td>\n",
              "      <td>0.001575</td>\n",
              "      <td>0.001592</td>\n",
              "      <td>0.001608</td>\n",
              "      <td>0.001625</td>\n",
              "      <td>0.001642</td>\n",
              "      <td>0.001659</td>\n",
              "      <td>...</td>\n",
              "      <td>0.483871</td>\n",
              "      <td>0.550459</td>\n",
              "      <td>0.625000</td>\n",
              "      <td>0.705882</td>\n",
              "      <td>0.789474</td>\n",
              "      <td>0.869565</td>\n",
              "      <td>0.937500</td>\n",
              "      <td>0.983607</td>\n",
              "      <td>1.000000</td>\n",
              "      <td>0.983607</td>\n",
              "    </tr>\n",
              "    <tr>\n",
              "      <th>200</th>\n",
              "      <td>0.001498</td>\n",
              "      <td>0.001513</td>\n",
              "      <td>0.001528</td>\n",
              "      <td>0.001544</td>\n",
              "      <td>0.001559</td>\n",
              "      <td>0.001575</td>\n",
              "      <td>0.001592</td>\n",
              "      <td>0.001608</td>\n",
              "      <td>0.001625</td>\n",
              "      <td>0.001642</td>\n",
              "      <td>...</td>\n",
              "      <td>0.425532</td>\n",
              "      <td>0.483871</td>\n",
              "      <td>0.550459</td>\n",
              "      <td>0.625000</td>\n",
              "      <td>0.705882</td>\n",
              "      <td>0.789474</td>\n",
              "      <td>0.869565</td>\n",
              "      <td>0.937500</td>\n",
              "      <td>0.983607</td>\n",
              "      <td>1.000000</td>\n",
              "    </tr>\n",
              "  </tbody>\n",
              "</table>\n",
              "<p>201 rows × 201 columns</p>\n",
              "</div>\n",
              "      <button class=\"colab-df-convert\" onclick=\"convertToInteractive('df-fae6bec6-dfbf-4a2d-b7ef-a42d0ffbbce7')\"\n",
              "              title=\"Convert this dataframe to an interactive table.\"\n",
              "              style=\"display:none;\">\n",
              "        \n",
              "  <svg xmlns=\"http://www.w3.org/2000/svg\" height=\"24px\"viewBox=\"0 0 24 24\"\n",
              "       width=\"24px\">\n",
              "    <path d=\"M0 0h24v24H0V0z\" fill=\"none\"/>\n",
              "    <path d=\"M18.56 5.44l.94 2.06.94-2.06 2.06-.94-2.06-.94-.94-2.06-.94 2.06-2.06.94zm-11 1L8.5 8.5l.94-2.06 2.06-.94-2.06-.94L8.5 2.5l-.94 2.06-2.06.94zm10 10l.94 2.06.94-2.06 2.06-.94-2.06-.94-.94-2.06-.94 2.06-2.06.94z\"/><path d=\"M17.41 7.96l-1.37-1.37c-.4-.4-.92-.59-1.43-.59-.52 0-1.04.2-1.43.59L10.3 9.45l-7.72 7.72c-.78.78-.78 2.05 0 2.83L4 21.41c.39.39.9.59 1.41.59.51 0 1.02-.2 1.41-.59l7.78-7.78 2.81-2.81c.8-.78.8-2.07 0-2.86zM5.41 20L4 18.59l7.72-7.72 1.47 1.35L5.41 20z\"/>\n",
              "  </svg>\n",
              "      </button>\n",
              "      \n",
              "  <style>\n",
              "    .colab-df-container {\n",
              "      display:flex;\n",
              "      flex-wrap:wrap;\n",
              "      gap: 12px;\n",
              "    }\n",
              "\n",
              "    .colab-df-convert {\n",
              "      background-color: #E8F0FE;\n",
              "      border: none;\n",
              "      border-radius: 50%;\n",
              "      cursor: pointer;\n",
              "      display: none;\n",
              "      fill: #1967D2;\n",
              "      height: 32px;\n",
              "      padding: 0 0 0 0;\n",
              "      width: 32px;\n",
              "    }\n",
              "\n",
              "    .colab-df-convert:hover {\n",
              "      background-color: #E2EBFA;\n",
              "      box-shadow: 0px 1px 2px rgba(60, 64, 67, 0.3), 0px 1px 3px 1px rgba(60, 64, 67, 0.15);\n",
              "      fill: #174EA6;\n",
              "    }\n",
              "\n",
              "    [theme=dark] .colab-df-convert {\n",
              "      background-color: #3B4455;\n",
              "      fill: #D2E3FC;\n",
              "    }\n",
              "\n",
              "    [theme=dark] .colab-df-convert:hover {\n",
              "      background-color: #434B5C;\n",
              "      box-shadow: 0px 1px 3px 1px rgba(0, 0, 0, 0.15);\n",
              "      filter: drop-shadow(0px 1px 2px rgba(0, 0, 0, 0.3));\n",
              "      fill: #FFFFFF;\n",
              "    }\n",
              "  </style>\n",
              "\n",
              "      <script>\n",
              "        const buttonEl =\n",
              "          document.querySelector('#df-fae6bec6-dfbf-4a2d-b7ef-a42d0ffbbce7 button.colab-df-convert');\n",
              "        buttonEl.style.display =\n",
              "          google.colab.kernel.accessAllowed ? 'block' : 'none';\n",
              "\n",
              "        async function convertToInteractive(key) {\n",
              "          const element = document.querySelector('#df-fae6bec6-dfbf-4a2d-b7ef-a42d0ffbbce7');\n",
              "          const dataTable =\n",
              "            await google.colab.kernel.invokeFunction('convertToInteractive',\n",
              "                                                     [key], {});\n",
              "          if (!dataTable) return;\n",
              "\n",
              "          const docLinkHtml = 'Like what you see? Visit the ' +\n",
              "            '<a target=\"_blank\" href=https://colab.research.google.com/notebooks/data_table.ipynb>data table notebook</a>'\n",
              "            + ' to learn more about interactive tables.';\n",
              "          element.innerHTML = '';\n",
              "          dataTable['output_type'] = 'display_data';\n",
              "          await google.colab.output.renderOutput(dataTable, element);\n",
              "          const docLink = document.createElement('div');\n",
              "          docLink.innerHTML = docLinkHtml;\n",
              "          element.appendChild(docLink);\n",
              "        }\n",
              "      </script>\n",
              "    </div>\n",
              "  </div>\n",
              "  "
            ]
          },
          "metadata": {},
          "execution_count": 316
        }
      ]
    },
    {
      "cell_type": "markdown",
      "source": [
        "Разложение Холецкого для матрицы sigma"
      ],
      "metadata": {
        "id": "qUByp2DdoGrk"
      }
    },
    {
      "cell_type": "code",
      "source": [
        "L = np.linalg.cholesky(sigma)\n",
        "L_visual = pd.DataFrame(L)\n",
        "L_visual"
      ],
      "metadata": {
        "colab": {
          "base_uri": "https://localhost:8080/",
          "height": 487
        },
        "id": "Sm1LALD65FiS",
        "outputId": "ba0074e4-6311-4481-9e48-d1f56ca2b813"
      },
      "execution_count": null,
      "outputs": [
        {
          "output_type": "execute_result",
          "data": {
            "text/plain": [
              "          0         1         2         3         4         5         6    \\\n",
              "0    1.000000  0.000000  0.000000  0.000000  0.000000  0.000000  0.000000   \n",
              "1    0.983607  0.180328  0.000000  0.000000  0.000000  0.000000  0.000000   \n",
              "2    0.937500  0.340909  0.069819  0.000000  0.000000  0.000000  0.000000   \n",
              "3    0.869565  0.455781  0.186330  0.037439  0.000000  0.000000  0.000000   \n",
              "4    0.789474  0.515914  0.307774  0.123312  0.025164  0.000000  0.000000   \n",
              "..        ...       ...       ...       ...       ...       ...       ...   \n",
              "196  0.001559  0.000231  0.000732  0.000284  0.000575  0.000325  0.000510   \n",
              "197  0.001544  0.000228  0.000725  0.000281  0.000569  0.000321  0.000505   \n",
              "198  0.001528  0.000225  0.000717  0.000278  0.000563  0.000318  0.000499   \n",
              "199  0.001513  0.000222  0.000710  0.000274  0.000557  0.000314  0.000494   \n",
              "200  0.001498  0.000220  0.000703  0.000271  0.000551  0.000311  0.000489   \n",
              "\n",
              "          7         8         9    ...       191       192       193  \\\n",
              "0    0.000000  0.000000  0.000000  ...  0.000000  0.000000  0.000000   \n",
              "1    0.000000  0.000000  0.000000  ...  0.000000  0.000000  0.000000   \n",
              "2    0.000000  0.000000  0.000000  ...  0.000000  0.000000  0.000000   \n",
              "3    0.000000  0.000000  0.000000  ...  0.000000  0.000000  0.000000   \n",
              "4    0.000000  0.000000  0.000000  ...  0.000000  0.000000  0.000000   \n",
              "..        ...       ...       ...  ...       ...       ...       ...   \n",
              "196  0.000357  0.000480  0.000383  ...  0.350523  0.307736  0.231314   \n",
              "197  0.000353  0.000474  0.000379  ...  0.360359  0.350523  0.307736   \n",
              "198  0.000349  0.000469  0.000374  ...  0.346375  0.360359  0.350523   \n",
              "199  0.000345  0.000464  0.000370  ...  0.318784  0.346375  0.360359   \n",
              "200  0.000342  0.000459  0.000366  ...  0.285496  0.318784  0.346375   \n",
              "\n",
              "          194       195       196       197       198       199       200  \n",
              "0    0.000000  0.000000  0.000000  0.000000  0.000000  0.000000  0.000000  \n",
              "1    0.000000  0.000000  0.000000  0.000000  0.000000  0.000000  0.000000  \n",
              "2    0.000000  0.000000  0.000000  0.000000  0.000000  0.000000  0.000000  \n",
              "3    0.000000  0.000000  0.000000  0.000000  0.000000  0.000000  0.000000  \n",
              "4    0.000000  0.000000  0.000000  0.000000  0.000000  0.000000  0.000000  \n",
              "..        ...       ...       ...       ...       ...       ...       ...  \n",
              "196  0.137148  0.055738  0.011342  0.000000  0.000000  0.000000  0.000000  \n",
              "197  0.231314  0.137148  0.055738  0.011342  0.000000  0.000000  0.000000  \n",
              "198  0.307736  0.231314  0.137148  0.055738  0.011342  0.000000  0.000000  \n",
              "199  0.350523  0.307736  0.231314  0.137148  0.055738  0.011342  0.000000  \n",
              "200  0.360359  0.350523  0.307736  0.231314  0.137148  0.055738  0.011342  \n",
              "\n",
              "[201 rows x 201 columns]"
            ],
            "text/html": [
              "\n",
              "  <div id=\"df-fd3b2f78-2059-4629-b95d-c5e5dbd3e64f\">\n",
              "    <div class=\"colab-df-container\">\n",
              "      <div>\n",
              "<style scoped>\n",
              "    .dataframe tbody tr th:only-of-type {\n",
              "        vertical-align: middle;\n",
              "    }\n",
              "\n",
              "    .dataframe tbody tr th {\n",
              "        vertical-align: top;\n",
              "    }\n",
              "\n",
              "    .dataframe thead th {\n",
              "        text-align: right;\n",
              "    }\n",
              "</style>\n",
              "<table border=\"1\" class=\"dataframe\">\n",
              "  <thead>\n",
              "    <tr style=\"text-align: right;\">\n",
              "      <th></th>\n",
              "      <th>0</th>\n",
              "      <th>1</th>\n",
              "      <th>2</th>\n",
              "      <th>3</th>\n",
              "      <th>4</th>\n",
              "      <th>5</th>\n",
              "      <th>6</th>\n",
              "      <th>7</th>\n",
              "      <th>8</th>\n",
              "      <th>9</th>\n",
              "      <th>...</th>\n",
              "      <th>191</th>\n",
              "      <th>192</th>\n",
              "      <th>193</th>\n",
              "      <th>194</th>\n",
              "      <th>195</th>\n",
              "      <th>196</th>\n",
              "      <th>197</th>\n",
              "      <th>198</th>\n",
              "      <th>199</th>\n",
              "      <th>200</th>\n",
              "    </tr>\n",
              "  </thead>\n",
              "  <tbody>\n",
              "    <tr>\n",
              "      <th>0</th>\n",
              "      <td>1.000000</td>\n",
              "      <td>0.000000</td>\n",
              "      <td>0.000000</td>\n",
              "      <td>0.000000</td>\n",
              "      <td>0.000000</td>\n",
              "      <td>0.000000</td>\n",
              "      <td>0.000000</td>\n",
              "      <td>0.000000</td>\n",
              "      <td>0.000000</td>\n",
              "      <td>0.000000</td>\n",
              "      <td>...</td>\n",
              "      <td>0.000000</td>\n",
              "      <td>0.000000</td>\n",
              "      <td>0.000000</td>\n",
              "      <td>0.000000</td>\n",
              "      <td>0.000000</td>\n",
              "      <td>0.000000</td>\n",
              "      <td>0.000000</td>\n",
              "      <td>0.000000</td>\n",
              "      <td>0.000000</td>\n",
              "      <td>0.000000</td>\n",
              "    </tr>\n",
              "    <tr>\n",
              "      <th>1</th>\n",
              "      <td>0.983607</td>\n",
              "      <td>0.180328</td>\n",
              "      <td>0.000000</td>\n",
              "      <td>0.000000</td>\n",
              "      <td>0.000000</td>\n",
              "      <td>0.000000</td>\n",
              "      <td>0.000000</td>\n",
              "      <td>0.000000</td>\n",
              "      <td>0.000000</td>\n",
              "      <td>0.000000</td>\n",
              "      <td>...</td>\n",
              "      <td>0.000000</td>\n",
              "      <td>0.000000</td>\n",
              "      <td>0.000000</td>\n",
              "      <td>0.000000</td>\n",
              "      <td>0.000000</td>\n",
              "      <td>0.000000</td>\n",
              "      <td>0.000000</td>\n",
              "      <td>0.000000</td>\n",
              "      <td>0.000000</td>\n",
              "      <td>0.000000</td>\n",
              "    </tr>\n",
              "    <tr>\n",
              "      <th>2</th>\n",
              "      <td>0.937500</td>\n",
              "      <td>0.340909</td>\n",
              "      <td>0.069819</td>\n",
              "      <td>0.000000</td>\n",
              "      <td>0.000000</td>\n",
              "      <td>0.000000</td>\n",
              "      <td>0.000000</td>\n",
              "      <td>0.000000</td>\n",
              "      <td>0.000000</td>\n",
              "      <td>0.000000</td>\n",
              "      <td>...</td>\n",
              "      <td>0.000000</td>\n",
              "      <td>0.000000</td>\n",
              "      <td>0.000000</td>\n",
              "      <td>0.000000</td>\n",
              "      <td>0.000000</td>\n",
              "      <td>0.000000</td>\n",
              "      <td>0.000000</td>\n",
              "      <td>0.000000</td>\n",
              "      <td>0.000000</td>\n",
              "      <td>0.000000</td>\n",
              "    </tr>\n",
              "    <tr>\n",
              "      <th>3</th>\n",
              "      <td>0.869565</td>\n",
              "      <td>0.455781</td>\n",
              "      <td>0.186330</td>\n",
              "      <td>0.037439</td>\n",
              "      <td>0.000000</td>\n",
              "      <td>0.000000</td>\n",
              "      <td>0.000000</td>\n",
              "      <td>0.000000</td>\n",
              "      <td>0.000000</td>\n",
              "      <td>0.000000</td>\n",
              "      <td>...</td>\n",
              "      <td>0.000000</td>\n",
              "      <td>0.000000</td>\n",
              "      <td>0.000000</td>\n",
              "      <td>0.000000</td>\n",
              "      <td>0.000000</td>\n",
              "      <td>0.000000</td>\n",
              "      <td>0.000000</td>\n",
              "      <td>0.000000</td>\n",
              "      <td>0.000000</td>\n",
              "      <td>0.000000</td>\n",
              "    </tr>\n",
              "    <tr>\n",
              "      <th>4</th>\n",
              "      <td>0.789474</td>\n",
              "      <td>0.515914</td>\n",
              "      <td>0.307774</td>\n",
              "      <td>0.123312</td>\n",
              "      <td>0.025164</td>\n",
              "      <td>0.000000</td>\n",
              "      <td>0.000000</td>\n",
              "      <td>0.000000</td>\n",
              "      <td>0.000000</td>\n",
              "      <td>0.000000</td>\n",
              "      <td>...</td>\n",
              "      <td>0.000000</td>\n",
              "      <td>0.000000</td>\n",
              "      <td>0.000000</td>\n",
              "      <td>0.000000</td>\n",
              "      <td>0.000000</td>\n",
              "      <td>0.000000</td>\n",
              "      <td>0.000000</td>\n",
              "      <td>0.000000</td>\n",
              "      <td>0.000000</td>\n",
              "      <td>0.000000</td>\n",
              "    </tr>\n",
              "    <tr>\n",
              "      <th>...</th>\n",
              "      <td>...</td>\n",
              "      <td>...</td>\n",
              "      <td>...</td>\n",
              "      <td>...</td>\n",
              "      <td>...</td>\n",
              "      <td>...</td>\n",
              "      <td>...</td>\n",
              "      <td>...</td>\n",
              "      <td>...</td>\n",
              "      <td>...</td>\n",
              "      <td>...</td>\n",
              "      <td>...</td>\n",
              "      <td>...</td>\n",
              "      <td>...</td>\n",
              "      <td>...</td>\n",
              "      <td>...</td>\n",
              "      <td>...</td>\n",
              "      <td>...</td>\n",
              "      <td>...</td>\n",
              "      <td>...</td>\n",
              "      <td>...</td>\n",
              "    </tr>\n",
              "    <tr>\n",
              "      <th>196</th>\n",
              "      <td>0.001559</td>\n",
              "      <td>0.000231</td>\n",
              "      <td>0.000732</td>\n",
              "      <td>0.000284</td>\n",
              "      <td>0.000575</td>\n",
              "      <td>0.000325</td>\n",
              "      <td>0.000510</td>\n",
              "      <td>0.000357</td>\n",
              "      <td>0.000480</td>\n",
              "      <td>0.000383</td>\n",
              "      <td>...</td>\n",
              "      <td>0.350523</td>\n",
              "      <td>0.307736</td>\n",
              "      <td>0.231314</td>\n",
              "      <td>0.137148</td>\n",
              "      <td>0.055738</td>\n",
              "      <td>0.011342</td>\n",
              "      <td>0.000000</td>\n",
              "      <td>0.000000</td>\n",
              "      <td>0.000000</td>\n",
              "      <td>0.000000</td>\n",
              "    </tr>\n",
              "    <tr>\n",
              "      <th>197</th>\n",
              "      <td>0.001544</td>\n",
              "      <td>0.000228</td>\n",
              "      <td>0.000725</td>\n",
              "      <td>0.000281</td>\n",
              "      <td>0.000569</td>\n",
              "      <td>0.000321</td>\n",
              "      <td>0.000505</td>\n",
              "      <td>0.000353</td>\n",
              "      <td>0.000474</td>\n",
              "      <td>0.000379</td>\n",
              "      <td>...</td>\n",
              "      <td>0.360359</td>\n",
              "      <td>0.350523</td>\n",
              "      <td>0.307736</td>\n",
              "      <td>0.231314</td>\n",
              "      <td>0.137148</td>\n",
              "      <td>0.055738</td>\n",
              "      <td>0.011342</td>\n",
              "      <td>0.000000</td>\n",
              "      <td>0.000000</td>\n",
              "      <td>0.000000</td>\n",
              "    </tr>\n",
              "    <tr>\n",
              "      <th>198</th>\n",
              "      <td>0.001528</td>\n",
              "      <td>0.000225</td>\n",
              "      <td>0.000717</td>\n",
              "      <td>0.000278</td>\n",
              "      <td>0.000563</td>\n",
              "      <td>0.000318</td>\n",
              "      <td>0.000499</td>\n",
              "      <td>0.000349</td>\n",
              "      <td>0.000469</td>\n",
              "      <td>0.000374</td>\n",
              "      <td>...</td>\n",
              "      <td>0.346375</td>\n",
              "      <td>0.360359</td>\n",
              "      <td>0.350523</td>\n",
              "      <td>0.307736</td>\n",
              "      <td>0.231314</td>\n",
              "      <td>0.137148</td>\n",
              "      <td>0.055738</td>\n",
              "      <td>0.011342</td>\n",
              "      <td>0.000000</td>\n",
              "      <td>0.000000</td>\n",
              "    </tr>\n",
              "    <tr>\n",
              "      <th>199</th>\n",
              "      <td>0.001513</td>\n",
              "      <td>0.000222</td>\n",
              "      <td>0.000710</td>\n",
              "      <td>0.000274</td>\n",
              "      <td>0.000557</td>\n",
              "      <td>0.000314</td>\n",
              "      <td>0.000494</td>\n",
              "      <td>0.000345</td>\n",
              "      <td>0.000464</td>\n",
              "      <td>0.000370</td>\n",
              "      <td>...</td>\n",
              "      <td>0.318784</td>\n",
              "      <td>0.346375</td>\n",
              "      <td>0.360359</td>\n",
              "      <td>0.350523</td>\n",
              "      <td>0.307736</td>\n",
              "      <td>0.231314</td>\n",
              "      <td>0.137148</td>\n",
              "      <td>0.055738</td>\n",
              "      <td>0.011342</td>\n",
              "      <td>0.000000</td>\n",
              "    </tr>\n",
              "    <tr>\n",
              "      <th>200</th>\n",
              "      <td>0.001498</td>\n",
              "      <td>0.000220</td>\n",
              "      <td>0.000703</td>\n",
              "      <td>0.000271</td>\n",
              "      <td>0.000551</td>\n",
              "      <td>0.000311</td>\n",
              "      <td>0.000489</td>\n",
              "      <td>0.000342</td>\n",
              "      <td>0.000459</td>\n",
              "      <td>0.000366</td>\n",
              "      <td>...</td>\n",
              "      <td>0.285496</td>\n",
              "      <td>0.318784</td>\n",
              "      <td>0.346375</td>\n",
              "      <td>0.360359</td>\n",
              "      <td>0.350523</td>\n",
              "      <td>0.307736</td>\n",
              "      <td>0.231314</td>\n",
              "      <td>0.137148</td>\n",
              "      <td>0.055738</td>\n",
              "      <td>0.011342</td>\n",
              "    </tr>\n",
              "  </tbody>\n",
              "</table>\n",
              "<p>201 rows × 201 columns</p>\n",
              "</div>\n",
              "      <button class=\"colab-df-convert\" onclick=\"convertToInteractive('df-fd3b2f78-2059-4629-b95d-c5e5dbd3e64f')\"\n",
              "              title=\"Convert this dataframe to an interactive table.\"\n",
              "              style=\"display:none;\">\n",
              "        \n",
              "  <svg xmlns=\"http://www.w3.org/2000/svg\" height=\"24px\"viewBox=\"0 0 24 24\"\n",
              "       width=\"24px\">\n",
              "    <path d=\"M0 0h24v24H0V0z\" fill=\"none\"/>\n",
              "    <path d=\"M18.56 5.44l.94 2.06.94-2.06 2.06-.94-2.06-.94-.94-2.06-.94 2.06-2.06.94zm-11 1L8.5 8.5l.94-2.06 2.06-.94-2.06-.94L8.5 2.5l-.94 2.06-2.06.94zm10 10l.94 2.06.94-2.06 2.06-.94-2.06-.94-.94-2.06-.94 2.06-2.06.94z\"/><path d=\"M17.41 7.96l-1.37-1.37c-.4-.4-.92-.59-1.43-.59-.52 0-1.04.2-1.43.59L10.3 9.45l-7.72 7.72c-.78.78-.78 2.05 0 2.83L4 21.41c.39.39.9.59 1.41.59.51 0 1.02-.2 1.41-.59l7.78-7.78 2.81-2.81c.8-.78.8-2.07 0-2.86zM5.41 20L4 18.59l7.72-7.72 1.47 1.35L5.41 20z\"/>\n",
              "  </svg>\n",
              "      </button>\n",
              "      \n",
              "  <style>\n",
              "    .colab-df-container {\n",
              "      display:flex;\n",
              "      flex-wrap:wrap;\n",
              "      gap: 12px;\n",
              "    }\n",
              "\n",
              "    .colab-df-convert {\n",
              "      background-color: #E8F0FE;\n",
              "      border: none;\n",
              "      border-radius: 50%;\n",
              "      cursor: pointer;\n",
              "      display: none;\n",
              "      fill: #1967D2;\n",
              "      height: 32px;\n",
              "      padding: 0 0 0 0;\n",
              "      width: 32px;\n",
              "    }\n",
              "\n",
              "    .colab-df-convert:hover {\n",
              "      background-color: #E2EBFA;\n",
              "      box-shadow: 0px 1px 2px rgba(60, 64, 67, 0.3), 0px 1px 3px 1px rgba(60, 64, 67, 0.15);\n",
              "      fill: #174EA6;\n",
              "    }\n",
              "\n",
              "    [theme=dark] .colab-df-convert {\n",
              "      background-color: #3B4455;\n",
              "      fill: #D2E3FC;\n",
              "    }\n",
              "\n",
              "    [theme=dark] .colab-df-convert:hover {\n",
              "      background-color: #434B5C;\n",
              "      box-shadow: 0px 1px 3px 1px rgba(0, 0, 0, 0.15);\n",
              "      filter: drop-shadow(0px 1px 2px rgba(0, 0, 0, 0.3));\n",
              "      fill: #FFFFFF;\n",
              "    }\n",
              "  </style>\n",
              "\n",
              "      <script>\n",
              "        const buttonEl =\n",
              "          document.querySelector('#df-fd3b2f78-2059-4629-b95d-c5e5dbd3e64f button.colab-df-convert');\n",
              "        buttonEl.style.display =\n",
              "          google.colab.kernel.accessAllowed ? 'block' : 'none';\n",
              "\n",
              "        async function convertToInteractive(key) {\n",
              "          const element = document.querySelector('#df-fd3b2f78-2059-4629-b95d-c5e5dbd3e64f');\n",
              "          const dataTable =\n",
              "            await google.colab.kernel.invokeFunction('convertToInteractive',\n",
              "                                                     [key], {});\n",
              "          if (!dataTable) return;\n",
              "\n",
              "          const docLinkHtml = 'Like what you see? Visit the ' +\n",
              "            '<a target=\"_blank\" href=https://colab.research.google.com/notebooks/data_table.ipynb>data table notebook</a>'\n",
              "            + ' to learn more about interactive tables.';\n",
              "          element.innerHTML = '';\n",
              "          dataTable['output_type'] = 'display_data';\n",
              "          await google.colab.output.renderOutput(dataTable, element);\n",
              "          const docLink = document.createElement('div');\n",
              "          docLink.innerHTML = docLinkHtml;\n",
              "          element.appendChild(docLink);\n",
              "        }\n",
              "      </script>\n",
              "    </div>\n",
              "  </div>\n",
              "  "
            ]
          },
          "metadata": {},
          "execution_count": 317
        }
      ]
    },
    {
      "cell_type": "markdown",
      "source": [
        "Невязка"
      ],
      "metadata": {
        "id": "qZQZQ-hvoPmI"
      }
    },
    {
      "cell_type": "code",
      "source": [
        "mtx = L.dot(np.transpose(L)) - sigma\n",
        "max = mtx[0][0]\n",
        "for i in range(k+1):\n",
        "  for j in range(k+1):\n",
        "    if mtx[i][j] > max:\n",
        "      max = mtx[i][j]\n",
        "print(\"%.50f\" % max)"
      ],
      "metadata": {
        "colab": {
          "base_uri": "https://localhost:8080/"
        },
        "id": "v-IUK3O05YWb",
        "outputId": "1a805757-4974-4897-f5eb-f90ea4d0cd97"
      },
      "execution_count": null,
      "outputs": [
        {
          "output_type": "stream",
          "name": "stdout",
          "text": [
            "0.00000000000000044408920985006261616945266723632812\n"
          ]
        }
      ]
    },
    {
      "cell_type": "markdown",
      "source": [
        "Матрица, строки которой - это траектории"
      ],
      "metadata": {
        "id": "eLnXBPbgoTBH"
      }
    },
    {
      "cell_type": "code",
      "source": [
        "ksi_mtx = [[0] * (k+1) for i in range(n)]\n",
        "epsilon = [0 for i in range(k+1)]\n",
        "ksi = np.zeros(k+1)\n",
        "\n",
        "for i in range(n):\n",
        "  for j in range(k+1):\n",
        "    epsilon = np.random.normal(0, 1, k+1)\n",
        "    eta = np.dot(L, epsilon)\n",
        "    ksi = eta + m\n",
        "    ksi_mtx[i] = ksi\n",
        "\n",
        "ksi_mtx_visual = pd.DataFrame(ksi_mtx)\n",
        "ksi_mtx_visual\n"
      ],
      "metadata": {
        "colab": {
          "base_uri": "https://localhost:8080/",
          "height": 487
        },
        "id": "chF7DqGK8jAX",
        "outputId": "c3f7658d-761c-400c-d03f-f3da52632b4b"
      },
      "execution_count": null,
      "outputs": [
        {
          "output_type": "execute_result",
          "data": {
            "text/plain": [
              "         0         1         2         3         4         5         6    \\\n",
              "0   3.447916  3.414564  3.333143  3.225718  3.148980  3.117037  3.057223   \n",
              "1   1.710527  1.888058  2.008687  2.069778  2.120654  2.210736  2.338218   \n",
              "2   1.769286  1.621770  1.407472  1.227437  1.158631  1.202612  1.295057   \n",
              "3   2.585450  2.639510  2.644411  2.593829  2.499956  2.372168  2.188927   \n",
              "4   1.847408  1.584502  1.350262  1.167239  1.059877  1.058403  1.181673   \n",
              "..       ...       ...       ...       ...       ...       ...       ...   \n",
              "95  2.774016  2.669859  2.622833  2.606357  2.590154  2.581282  2.604568   \n",
              "96  2.764432  2.844991  2.829281  2.697965  2.500217  2.299435  2.106660   \n",
              "97  2.296197  1.789680  1.282511  0.854872  0.584252  0.514950  0.640350   \n",
              "98  1.915161  1.925101  2.005112  2.106125  2.162645  2.150551  2.113501   \n",
              "99  0.931173  1.253992  1.571830  1.780108  1.809232  1.646379  1.342213   \n",
              "\n",
              "         7         8         9    ...       191       192       193       194  \\\n",
              "0   2.886128  2.612062  2.305904  ...  2.037356  2.192768  2.207751  2.131948   \n",
              "1   2.470390  2.585462  2.670630  ...  1.647299  1.687051  1.704927  1.716923   \n",
              "2   1.342305  1.288295  1.163823  ...  0.068497  0.260928  0.560655  0.889091   \n",
              "3   1.933915  1.640282  1.373232  ...  2.036462  1.938464  1.778698  1.541698   \n",
              "4   1.423243  1.754184  2.116770  ...  2.292101  2.252161  2.173690  2.004063   \n",
              "..       ...       ...       ...  ...       ...       ...       ...       ...   \n",
              "95  2.651072  2.671834  2.623333  ... -0.284472 -0.133235 -0.047341 -0.070785   \n",
              "96  1.917415  1.777229  1.746609  ...  0.925958  1.137687  1.360923  1.567706   \n",
              "97  0.888633  1.158017  1.349303  ...  0.082545 -0.097356 -0.278279 -0.496399   \n",
              "98  2.094084  2.085393  2.059148  ...  2.672027  2.582702  2.413749  2.168984   \n",
              "99  1.006118  0.746116  0.593337  ...  0.385329  0.369223  0.442287  0.583277   \n",
              "\n",
              "         195       196       197       198       199       200  \n",
              "0   2.022119  1.864523  1.601777  1.251924  0.920734  0.673539  \n",
              "1   1.709594  1.650390  1.538614  1.401385  1.252914  1.096541  \n",
              "2   1.176142  1.383825  1.505391  1.567210  1.615319  1.680910  \n",
              "3   1.284353  1.083416  0.990243  1.022520  1.164559  1.381499  \n",
              "4   1.708832  1.314441  0.880533  0.492978  0.239231  0.135581  \n",
              "..       ...       ...       ...       ...       ...       ...  \n",
              "95 -0.166567 -0.226191 -0.158793  0.035211  0.295740  0.561322  \n",
              "96  1.733307  1.827490  1.824312  1.721588  1.553431  1.373916  \n",
              "97 -0.694788 -0.771063 -0.672296 -0.443024 -0.186234  0.009810  \n",
              "98  1.873687  1.578006  1.347988  1.240953  1.246606  1.264937  \n",
              "99  0.694045  0.696441  0.606880  0.503484  0.469036  0.586254  \n",
              "\n",
              "[100 rows x 201 columns]"
            ],
            "text/html": [
              "\n",
              "  <div id=\"df-3af597ad-e570-47f0-8f15-dda6884efeb7\">\n",
              "    <div class=\"colab-df-container\">\n",
              "      <div>\n",
              "<style scoped>\n",
              "    .dataframe tbody tr th:only-of-type {\n",
              "        vertical-align: middle;\n",
              "    }\n",
              "\n",
              "    .dataframe tbody tr th {\n",
              "        vertical-align: top;\n",
              "    }\n",
              "\n",
              "    .dataframe thead th {\n",
              "        text-align: right;\n",
              "    }\n",
              "</style>\n",
              "<table border=\"1\" class=\"dataframe\">\n",
              "  <thead>\n",
              "    <tr style=\"text-align: right;\">\n",
              "      <th></th>\n",
              "      <th>0</th>\n",
              "      <th>1</th>\n",
              "      <th>2</th>\n",
              "      <th>3</th>\n",
              "      <th>4</th>\n",
              "      <th>5</th>\n",
              "      <th>6</th>\n",
              "      <th>7</th>\n",
              "      <th>8</th>\n",
              "      <th>9</th>\n",
              "      <th>...</th>\n",
              "      <th>191</th>\n",
              "      <th>192</th>\n",
              "      <th>193</th>\n",
              "      <th>194</th>\n",
              "      <th>195</th>\n",
              "      <th>196</th>\n",
              "      <th>197</th>\n",
              "      <th>198</th>\n",
              "      <th>199</th>\n",
              "      <th>200</th>\n",
              "    </tr>\n",
              "  </thead>\n",
              "  <tbody>\n",
              "    <tr>\n",
              "      <th>0</th>\n",
              "      <td>3.447916</td>\n",
              "      <td>3.414564</td>\n",
              "      <td>3.333143</td>\n",
              "      <td>3.225718</td>\n",
              "      <td>3.148980</td>\n",
              "      <td>3.117037</td>\n",
              "      <td>3.057223</td>\n",
              "      <td>2.886128</td>\n",
              "      <td>2.612062</td>\n",
              "      <td>2.305904</td>\n",
              "      <td>...</td>\n",
              "      <td>2.037356</td>\n",
              "      <td>2.192768</td>\n",
              "      <td>2.207751</td>\n",
              "      <td>2.131948</td>\n",
              "      <td>2.022119</td>\n",
              "      <td>1.864523</td>\n",
              "      <td>1.601777</td>\n",
              "      <td>1.251924</td>\n",
              "      <td>0.920734</td>\n",
              "      <td>0.673539</td>\n",
              "    </tr>\n",
              "    <tr>\n",
              "      <th>1</th>\n",
              "      <td>1.710527</td>\n",
              "      <td>1.888058</td>\n",
              "      <td>2.008687</td>\n",
              "      <td>2.069778</td>\n",
              "      <td>2.120654</td>\n",
              "      <td>2.210736</td>\n",
              "      <td>2.338218</td>\n",
              "      <td>2.470390</td>\n",
              "      <td>2.585462</td>\n",
              "      <td>2.670630</td>\n",
              "      <td>...</td>\n",
              "      <td>1.647299</td>\n",
              "      <td>1.687051</td>\n",
              "      <td>1.704927</td>\n",
              "      <td>1.716923</td>\n",
              "      <td>1.709594</td>\n",
              "      <td>1.650390</td>\n",
              "      <td>1.538614</td>\n",
              "      <td>1.401385</td>\n",
              "      <td>1.252914</td>\n",
              "      <td>1.096541</td>\n",
              "    </tr>\n",
              "    <tr>\n",
              "      <th>2</th>\n",
              "      <td>1.769286</td>\n",
              "      <td>1.621770</td>\n",
              "      <td>1.407472</td>\n",
              "      <td>1.227437</td>\n",
              "      <td>1.158631</td>\n",
              "      <td>1.202612</td>\n",
              "      <td>1.295057</td>\n",
              "      <td>1.342305</td>\n",
              "      <td>1.288295</td>\n",
              "      <td>1.163823</td>\n",
              "      <td>...</td>\n",
              "      <td>0.068497</td>\n",
              "      <td>0.260928</td>\n",
              "      <td>0.560655</td>\n",
              "      <td>0.889091</td>\n",
              "      <td>1.176142</td>\n",
              "      <td>1.383825</td>\n",
              "      <td>1.505391</td>\n",
              "      <td>1.567210</td>\n",
              "      <td>1.615319</td>\n",
              "      <td>1.680910</td>\n",
              "    </tr>\n",
              "    <tr>\n",
              "      <th>3</th>\n",
              "      <td>2.585450</td>\n",
              "      <td>2.639510</td>\n",
              "      <td>2.644411</td>\n",
              "      <td>2.593829</td>\n",
              "      <td>2.499956</td>\n",
              "      <td>2.372168</td>\n",
              "      <td>2.188927</td>\n",
              "      <td>1.933915</td>\n",
              "      <td>1.640282</td>\n",
              "      <td>1.373232</td>\n",
              "      <td>...</td>\n",
              "      <td>2.036462</td>\n",
              "      <td>1.938464</td>\n",
              "      <td>1.778698</td>\n",
              "      <td>1.541698</td>\n",
              "      <td>1.284353</td>\n",
              "      <td>1.083416</td>\n",
              "      <td>0.990243</td>\n",
              "      <td>1.022520</td>\n",
              "      <td>1.164559</td>\n",
              "      <td>1.381499</td>\n",
              "    </tr>\n",
              "    <tr>\n",
              "      <th>4</th>\n",
              "      <td>1.847408</td>\n",
              "      <td>1.584502</td>\n",
              "      <td>1.350262</td>\n",
              "      <td>1.167239</td>\n",
              "      <td>1.059877</td>\n",
              "      <td>1.058403</td>\n",
              "      <td>1.181673</td>\n",
              "      <td>1.423243</td>\n",
              "      <td>1.754184</td>\n",
              "      <td>2.116770</td>\n",
              "      <td>...</td>\n",
              "      <td>2.292101</td>\n",
              "      <td>2.252161</td>\n",
              "      <td>2.173690</td>\n",
              "      <td>2.004063</td>\n",
              "      <td>1.708832</td>\n",
              "      <td>1.314441</td>\n",
              "      <td>0.880533</td>\n",
              "      <td>0.492978</td>\n",
              "      <td>0.239231</td>\n",
              "      <td>0.135581</td>\n",
              "    </tr>\n",
              "    <tr>\n",
              "      <th>...</th>\n",
              "      <td>...</td>\n",
              "      <td>...</td>\n",
              "      <td>...</td>\n",
              "      <td>...</td>\n",
              "      <td>...</td>\n",
              "      <td>...</td>\n",
              "      <td>...</td>\n",
              "      <td>...</td>\n",
              "      <td>...</td>\n",
              "      <td>...</td>\n",
              "      <td>...</td>\n",
              "      <td>...</td>\n",
              "      <td>...</td>\n",
              "      <td>...</td>\n",
              "      <td>...</td>\n",
              "      <td>...</td>\n",
              "      <td>...</td>\n",
              "      <td>...</td>\n",
              "      <td>...</td>\n",
              "      <td>...</td>\n",
              "      <td>...</td>\n",
              "    </tr>\n",
              "    <tr>\n",
              "      <th>95</th>\n",
              "      <td>2.774016</td>\n",
              "      <td>2.669859</td>\n",
              "      <td>2.622833</td>\n",
              "      <td>2.606357</td>\n",
              "      <td>2.590154</td>\n",
              "      <td>2.581282</td>\n",
              "      <td>2.604568</td>\n",
              "      <td>2.651072</td>\n",
              "      <td>2.671834</td>\n",
              "      <td>2.623333</td>\n",
              "      <td>...</td>\n",
              "      <td>-0.284472</td>\n",
              "      <td>-0.133235</td>\n",
              "      <td>-0.047341</td>\n",
              "      <td>-0.070785</td>\n",
              "      <td>-0.166567</td>\n",
              "      <td>-0.226191</td>\n",
              "      <td>-0.158793</td>\n",
              "      <td>0.035211</td>\n",
              "      <td>0.295740</td>\n",
              "      <td>0.561322</td>\n",
              "    </tr>\n",
              "    <tr>\n",
              "      <th>96</th>\n",
              "      <td>2.764432</td>\n",
              "      <td>2.844991</td>\n",
              "      <td>2.829281</td>\n",
              "      <td>2.697965</td>\n",
              "      <td>2.500217</td>\n",
              "      <td>2.299435</td>\n",
              "      <td>2.106660</td>\n",
              "      <td>1.917415</td>\n",
              "      <td>1.777229</td>\n",
              "      <td>1.746609</td>\n",
              "      <td>...</td>\n",
              "      <td>0.925958</td>\n",
              "      <td>1.137687</td>\n",
              "      <td>1.360923</td>\n",
              "      <td>1.567706</td>\n",
              "      <td>1.733307</td>\n",
              "      <td>1.827490</td>\n",
              "      <td>1.824312</td>\n",
              "      <td>1.721588</td>\n",
              "      <td>1.553431</td>\n",
              "      <td>1.373916</td>\n",
              "    </tr>\n",
              "    <tr>\n",
              "      <th>97</th>\n",
              "      <td>2.296197</td>\n",
              "      <td>1.789680</td>\n",
              "      <td>1.282511</td>\n",
              "      <td>0.854872</td>\n",
              "      <td>0.584252</td>\n",
              "      <td>0.514950</td>\n",
              "      <td>0.640350</td>\n",
              "      <td>0.888633</td>\n",
              "      <td>1.158017</td>\n",
              "      <td>1.349303</td>\n",
              "      <td>...</td>\n",
              "      <td>0.082545</td>\n",
              "      <td>-0.097356</td>\n",
              "      <td>-0.278279</td>\n",
              "      <td>-0.496399</td>\n",
              "      <td>-0.694788</td>\n",
              "      <td>-0.771063</td>\n",
              "      <td>-0.672296</td>\n",
              "      <td>-0.443024</td>\n",
              "      <td>-0.186234</td>\n",
              "      <td>0.009810</td>\n",
              "    </tr>\n",
              "    <tr>\n",
              "      <th>98</th>\n",
              "      <td>1.915161</td>\n",
              "      <td>1.925101</td>\n",
              "      <td>2.005112</td>\n",
              "      <td>2.106125</td>\n",
              "      <td>2.162645</td>\n",
              "      <td>2.150551</td>\n",
              "      <td>2.113501</td>\n",
              "      <td>2.094084</td>\n",
              "      <td>2.085393</td>\n",
              "      <td>2.059148</td>\n",
              "      <td>...</td>\n",
              "      <td>2.672027</td>\n",
              "      <td>2.582702</td>\n",
              "      <td>2.413749</td>\n",
              "      <td>2.168984</td>\n",
              "      <td>1.873687</td>\n",
              "      <td>1.578006</td>\n",
              "      <td>1.347988</td>\n",
              "      <td>1.240953</td>\n",
              "      <td>1.246606</td>\n",
              "      <td>1.264937</td>\n",
              "    </tr>\n",
              "    <tr>\n",
              "      <th>99</th>\n",
              "      <td>0.931173</td>\n",
              "      <td>1.253992</td>\n",
              "      <td>1.571830</td>\n",
              "      <td>1.780108</td>\n",
              "      <td>1.809232</td>\n",
              "      <td>1.646379</td>\n",
              "      <td>1.342213</td>\n",
              "      <td>1.006118</td>\n",
              "      <td>0.746116</td>\n",
              "      <td>0.593337</td>\n",
              "      <td>...</td>\n",
              "      <td>0.385329</td>\n",
              "      <td>0.369223</td>\n",
              "      <td>0.442287</td>\n",
              "      <td>0.583277</td>\n",
              "      <td>0.694045</td>\n",
              "      <td>0.696441</td>\n",
              "      <td>0.606880</td>\n",
              "      <td>0.503484</td>\n",
              "      <td>0.469036</td>\n",
              "      <td>0.586254</td>\n",
              "    </tr>\n",
              "  </tbody>\n",
              "</table>\n",
              "<p>100 rows × 201 columns</p>\n",
              "</div>\n",
              "      <button class=\"colab-df-convert\" onclick=\"convertToInteractive('df-3af597ad-e570-47f0-8f15-dda6884efeb7')\"\n",
              "              title=\"Convert this dataframe to an interactive table.\"\n",
              "              style=\"display:none;\">\n",
              "        \n",
              "  <svg xmlns=\"http://www.w3.org/2000/svg\" height=\"24px\"viewBox=\"0 0 24 24\"\n",
              "       width=\"24px\">\n",
              "    <path d=\"M0 0h24v24H0V0z\" fill=\"none\"/>\n",
              "    <path d=\"M18.56 5.44l.94 2.06.94-2.06 2.06-.94-2.06-.94-.94-2.06-.94 2.06-2.06.94zm-11 1L8.5 8.5l.94-2.06 2.06-.94-2.06-.94L8.5 2.5l-.94 2.06-2.06.94zm10 10l.94 2.06.94-2.06 2.06-.94-2.06-.94-.94-2.06-.94 2.06-2.06.94z\"/><path d=\"M17.41 7.96l-1.37-1.37c-.4-.4-.92-.59-1.43-.59-.52 0-1.04.2-1.43.59L10.3 9.45l-7.72 7.72c-.78.78-.78 2.05 0 2.83L4 21.41c.39.39.9.59 1.41.59.51 0 1.02-.2 1.41-.59l7.78-7.78 2.81-2.81c.8-.78.8-2.07 0-2.86zM5.41 20L4 18.59l7.72-7.72 1.47 1.35L5.41 20z\"/>\n",
              "  </svg>\n",
              "      </button>\n",
              "      \n",
              "  <style>\n",
              "    .colab-df-container {\n",
              "      display:flex;\n",
              "      flex-wrap:wrap;\n",
              "      gap: 12px;\n",
              "    }\n",
              "\n",
              "    .colab-df-convert {\n",
              "      background-color: #E8F0FE;\n",
              "      border: none;\n",
              "      border-radius: 50%;\n",
              "      cursor: pointer;\n",
              "      display: none;\n",
              "      fill: #1967D2;\n",
              "      height: 32px;\n",
              "      padding: 0 0 0 0;\n",
              "      width: 32px;\n",
              "    }\n",
              "\n",
              "    .colab-df-convert:hover {\n",
              "      background-color: #E2EBFA;\n",
              "      box-shadow: 0px 1px 2px rgba(60, 64, 67, 0.3), 0px 1px 3px 1px rgba(60, 64, 67, 0.15);\n",
              "      fill: #174EA6;\n",
              "    }\n",
              "\n",
              "    [theme=dark] .colab-df-convert {\n",
              "      background-color: #3B4455;\n",
              "      fill: #D2E3FC;\n",
              "    }\n",
              "\n",
              "    [theme=dark] .colab-df-convert:hover {\n",
              "      background-color: #434B5C;\n",
              "      box-shadow: 0px 1px 3px 1px rgba(0, 0, 0, 0.15);\n",
              "      filter: drop-shadow(0px 1px 2px rgba(0, 0, 0, 0.3));\n",
              "      fill: #FFFFFF;\n",
              "    }\n",
              "  </style>\n",
              "\n",
              "      <script>\n",
              "        const buttonEl =\n",
              "          document.querySelector('#df-3af597ad-e570-47f0-8f15-dda6884efeb7 button.colab-df-convert');\n",
              "        buttonEl.style.display =\n",
              "          google.colab.kernel.accessAllowed ? 'block' : 'none';\n",
              "\n",
              "        async function convertToInteractive(key) {\n",
              "          const element = document.querySelector('#df-3af597ad-e570-47f0-8f15-dda6884efeb7');\n",
              "          const dataTable =\n",
              "            await google.colab.kernel.invokeFunction('convertToInteractive',\n",
              "                                                     [key], {});\n",
              "          if (!dataTable) return;\n",
              "\n",
              "          const docLinkHtml = 'Like what you see? Visit the ' +\n",
              "            '<a target=\"_blank\" href=https://colab.research.google.com/notebooks/data_table.ipynb>data table notebook</a>'\n",
              "            + ' to learn more about interactive tables.';\n",
              "          element.innerHTML = '';\n",
              "          dataTable['output_type'] = 'display_data';\n",
              "          await google.colab.output.renderOutput(dataTable, element);\n",
              "          const docLink = document.createElement('div');\n",
              "          docLink.innerHTML = docLinkHtml;\n",
              "          element.appendChild(docLink);\n",
              "        }\n",
              "      </script>\n",
              "    </div>\n",
              "  </div>\n",
              "  "
            ]
          },
          "metadata": {},
          "execution_count": 319
        }
      ]
    },
    {
      "cell_type": "code",
      "source": [
        "plt.figure(figsize=(12, 8))\n",
        "t = np.linspace(0, 10.01, 201)\n",
        "func = lambda t: 1 + math.e**(-t / 2)\n",
        "plt.xlim([0, 10])\n",
        "plt.plot(t, func(t), linestyle='--', linewidth=2, color='darkorchid', label=\"m(t)\")\n",
        "plt.plot(t, ksi_mtx[0], '-o', markersize = 3, linewidth=1, color='lightskyblue', label=\"$\\u03BE_1$\")\n",
        "plt.plot(t, ksi_mtx[9], '-o', markersize = 3, linewidth=1, color='crimson', label=\"$\\u03BE_{10}$\")\n",
        "plt.plot(t, ksi_mtx[n-1], '-o', markersize = 3, linewidth=1, color='coral', label=\"$\\u03BE_n$\")\n",
        "plt.xlabel('t')\n",
        "plt.ylabel('$\\u03BE(t)$')\n",
        "plt.grid()\n",
        "plt.legend()\n",
        "plt.show()"
      ],
      "metadata": {
        "colab": {
          "base_uri": "https://localhost:8080/",
          "height": 696
        },
        "id": "OK8WUBuPPiZO",
        "outputId": "24733c73-22a6-4499-dcf4-31da81b2d8c0"
      },
      "execution_count": null,
      "outputs": [
        {
          "output_type": "display_data",
          "data": {
            "text/plain": [
              "<Figure size 1200x800 with 1 Axes>"
            ],
            "image/png": "[encoded data removed]"
          },
          "metadata": {}
        }
      ]
    },
    {
      "cell_type": "markdown",
      "source": [
        "Проверка качества моделирования траекторий"
      ],
      "metadata": {
        "id": "3Llvlt50o27A"
      }
    },
    {
      "cell_type": "code",
      "source": [
        "s_n = [0 for i in range(n)]\n",
        "s_1 = [0 for i in range(n)]\n",
        "s_2 = [0 for i in range(n)]\n",
        "s_5 = [0 for i in range(n)]\n",
        "s_10 = [0 for i in range(n)]\n",
        "\n",
        "for i in range(n):\n",
        "  s_n[i] = ksi_mtx[i][n-1]\n",
        "  s_1[i] = ksi_mtx[i][0]\n",
        "  s_2[i] = ksi_mtx[i][1]\n",
        "  s_5[i] = ksi_mtx[i][4]\n",
        "  s_10[i] = ksi_mtx[i][9]"
      ],
      "metadata": {
        "id": "F4wz8KX4o0L7"
      },
      "execution_count": null,
      "outputs": []
    },
    {
      "cell_type": "code",
      "source": [
        "plt.figure(figsize=(10, 6))\n",
        "plt.plot(s_1, s_2, 'o', markersize = 2, color='darkorchid')\n",
        "plt.xlabel('$\\u03BE_1$', loc='right')\n",
        "plt.ylabel('$\\u03BE_2$', loc='top')\n",
        "ax = plt.gca()\n",
        "ax.spines['left'].set_position('center')\n",
        "ax.spines['bottom'].set_position('center')\n",
        "ax.spines['top'].set_visible(False)\n",
        "ax.spines['right'].set_visible(False)\n",
        "plt.show()"
      ],
      "metadata": {
        "colab": {
          "base_uri": "https://localhost:8080/",
          "height": 499
        },
        "id": "yvdlNT0opqi_",
        "outputId": "07e7c4d4-3da7-42b3-a635-7fe8ec076062"
      },
      "execution_count": null,
      "outputs": [
        {
          "output_type": "display_data",
          "data": {
            "text/plain": [
              "<Figure size 1000x600 with 1 Axes>"
            ],
            "image/png": "[encoded data removed]"
          },
          "metadata": {}
        }
      ]
    },
    {
      "cell_type": "code",
      "source": [
        "plt.figure(figsize=(10, 6))\n",
        "plt.plot(s_5, s_2, 'o', markersize = 2, color='darkorchid')\n",
        "plt.xlabel('$\\u03BE_5$', loc='right')\n",
        "plt.ylabel('$\\u03BE_2$', loc='top')\n",
        "ax = plt.gca()\n",
        "ax.spines['left'].set_position('center')\n",
        "ax.spines['bottom'].set_position('center')\n",
        "ax.spines['top'].set_visible(False)\n",
        "ax.spines['right'].set_visible(False)\n",
        "plt.show()"
      ],
      "metadata": {
        "colab": {
          "base_uri": "https://localhost:8080/",
          "height": 499
        },
        "id": "DJCdIRBJa-1r",
        "outputId": "8081a5ef-bf6b-4c9c-fd23-40860c7d62de"
      },
      "execution_count": null,
      "outputs": [
        {
          "output_type": "display_data",
          "data": {
            "text/plain": [
              "<Figure size 1000x600 with 1 Axes>"
            ],
            "image/png": "[encoded data removed]"
          },
          "metadata": {}
        }
      ]
    },
    {
      "cell_type": "code",
      "source": [
        "plt.figure(figsize=(10, 6))\n",
        "plt.plot(s_10, s_2, 'o', markersize = 2, color='darkorchid')\n",
        "plt.xlabel('$\\u03BE_{10}$', loc='right')\n",
        "plt.ylabel('$\\u03BE_2$', loc='top')\n",
        "ax = plt.gca()\n",
        "ax.spines['left'].set_position('center')\n",
        "ax.spines['bottom'].set_position('center')\n",
        "ax.spines['top'].set_visible(False)\n",
        "ax.spines['right'].set_visible(False)\n",
        "plt.show()"
      ],
      "metadata": {
        "colab": {
          "base_uri": "https://localhost:8080/",
          "height": 499
        },
        "id": "MT-xnyyKtVUg",
        "outputId": "9fb0d37b-ee8a-4105-e5cf-0ee218a4e2be"
      },
      "execution_count": null,
      "outputs": [
        {
          "output_type": "display_data",
          "data": {
            "text/plain": [
              "<Figure size 1000x600 with 1 Axes>"
            ],
            "image/png": "[encoded data removed]"
          },
          "metadata": {}
        }
      ]
    },
    {
      "cell_type": "code",
      "source": [
        "plt.figure(figsize=(10, 6))\n",
        "plt.plot(s_n, s_2, 'o', markersize = 2, color='darkorchid')\n",
        "plt.xlabel('$\\u03BE_n$', loc='right')\n",
        "plt.ylabel('$\\u03BE_2$', loc='top')\n",
        "ax = plt.gca()\n",
        "ax.spines['left'].set_position('center')\n",
        "ax.spines['bottom'].set_position('center')\n",
        "ax.spines['top'].set_visible(False)\n",
        "ax.spines['right'].set_visible(False)\n",
        "plt.show()"
      ],
      "metadata": {
        "colab": {
          "base_uri": "https://localhost:8080/",
          "height": 499
        },
        "id": "Su_-_a92tYSA",
        "outputId": "46e5690a-cf47-443a-c039-fc174185d80c"
      },
      "execution_count": null,
      "outputs": [
        {
          "output_type": "display_data",
          "data": {
            "text/plain": [
              "<Figure size 1000x600 with 1 Axes>"
            ],
            "image/png": "[encoded data removed]"
          },
          "metadata": {}
        }
      ]
    },
    {
      "cell_type": "markdown",
      "source": [
        "Вычислим теоретические и выборочные коэффициенты корреляции для построенных сечений процесса по формулам:"
      ],
      "metadata": {
        "id": "qsZHWj5abNbM"
      }
    },
    {
      "cell_type": "markdown",
      "source": [
        "![image.png](data:image/png;base64,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)"
      ],
      "metadata": {
        "id": "o7Imlz2TbSef"
      }
    },
    {
      "cell_type": "markdown",
      "source": [
        "![image.png](data:image/png;base64,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)"
      ],
      "metadata": {
        "id": "bZAzs8WLba8e"
      }
    },
    {
      "cell_type": "markdown",
      "source": [
        "Теоретические коэффициенты корреляции"
      ],
      "metadata": {
        "id": "mrTW0y9yh5b-"
      }
    },
    {
      "cell_type": "code",
      "source": [
        "r_1_2 = sigma[1][2] / (sigma[1][1] * sigma[2][2])**(1/2)\n",
        "r_5_2 = sigma[5][2] / (sigma[5][5] * sigma[2][2])**(1/2)\n",
        "r_10_2 = sigma[10][2] / (sigma[10][10] * sigma[2][2])**(1/2)\n",
        "r_n_2 = sigma[n-1][2] / (sigma[n-1][n-1] * sigma[2][2])**(1/2)\n",
        "(r_1_2, r_5_2, r_10_2, r_n_2)"
      ],
      "metadata": {
        "colab": {
          "base_uri": "https://localhost:8080/"
        },
        "id": "mX6ELOyKbEJ6",
        "outputId": "af3b65ae-eb15-4057-e65a-4e77272ed40f"
      },
      "execution_count": null,
      "outputs": [
        {
          "output_type": "execute_result",
          "data": {
            "text/plain": [
              "(0.9836065573770493,\n",
              " 0.8695652173913043,\n",
              " 0.4838709677419354,\n",
              " 0.0063364663639243835)"
            ]
          },
          "metadata": {},
          "execution_count": 326
        }
      ]
    },
    {
      "cell_type": "markdown",
      "source": [
        "Выборочные коэффициенты корреляции"
      ],
      "metadata": {
        "id": "tjuWqOAmh_MQ"
      }
    },
    {
      "cell_type": "code",
      "source": [
        "# def sample_coef(s_i, s_j):\n",
        "#   sum1 = 0\n",
        "#   sum2 = 0\n",
        "#   sum3 = 0\n",
        "#   sum4 = 0\n",
        "#   sum5 = 0\n",
        "#   for i in range(n):\n",
        "#     sum1 += s_i[i] * s_j[i]\n",
        "#     sum2 += s_i[i]\n",
        "#     sum3 += s_j[i]\n",
        "#     sum4 += (s_i[i])**2\n",
        "#     sum5 += (s_j[i])**2\n",
        "#   coef = (n * sum1 - sum2 * sum3) / ((n * sum4 - sum2**2)**(1/2) * (n * sum5 - sum3**2)**(1/2))\n",
        "#   return coef\n",
        "\n",
        "# sample_r_1_2 = sample_coef(s_1, s_2)\n",
        "# sample_r_5_2 = sample_coef(s_5, s_2)\n",
        "# sample_r_10_2 = sample_coef(s_10, s_2)\n",
        "# sample_r_n_2 = sample_coef(s_n, s_2)\n",
        "\n",
        "# (sample_r_1_2, sample_r_5_2, sample_r_10_2, sample_r_n_2)\n",
        "\n",
        "(np.corrcoef(s_1, s_2)[0,1], np.corrcoef(s_5, s_2)[0,1], np.corrcoef(s_10, s_2)[0,1], np.corrcoef(s_n, s_2)[0,1])"
      ],
      "metadata": {
        "colab": {
          "base_uri": "https://localhost:8080/"
        },
        "id": "UAUpN3CLdAhZ",
        "outputId": "6f7f6eaa-f742-460d-e4fc-903ba0b8c559"
      },
      "execution_count": null,
      "outputs": [
        {
          "output_type": "execute_result",
          "data": {
            "text/plain": [
              "(0.9840251346041151,\n",
              " 0.8618079982036123,\n",
              " 0.4401314178449016,\n",
              " -0.09543866134069365)"
            ]
          },
          "metadata": {},
          "execution_count": 327
        }
      ]
    },
    {
      "cell_type": "markdown",
      "source": [
        "Построим 95% доверительные интервалы на основе выборочных коэффициентов корреляции по формулам:"
      ],
      "metadata": {
        "id": "yhEKQxW9jr8b"
      }
    },
    {
      "cell_type": "markdown",
      "source": [
        "![image.png](data:image/png;base64,iVBORw0KGgoAAAANSUhEUgAAApgAAACXCAYAAACx+Cs1AAAAAXNSR0IArs4c6QAAAARnQU1BAACxjwv8YQUAAAAJcEhZcwAADsMAAA7DAcdvqGQAACWFSURBVHhe7d1vjFTV/cfx298jY9QSUrUVGlCgRKFWVogmEtmERGwbEtJCMTwgBNKEyGLF4ANB0sSCPpBA2EVDYrTGB7ZkaUNCsEJiQg0kVOliKdpQWKiKSrBpRA3RR/z2c/Z8l7PD/Lkz99zZuTPvVzLcu7O7M8OdnXu+93u+55zvXBmSAAAAAJH8n98CAAAAURBgAgAAICoCTAAAAERFgAkAAICoCDABAAAQFQEmAAAAoiLABAAAQFQEmAAAAIiKABMAAABREWACAAAgKgJMAAAAREWACQAAgKgIMAEAABAVASYAAACiIsAEAABAVASYAFCHV199Nbnpppvc7cyZM/5eAECIABNA7j7++OPkd7/7XfLXv/7V31NMf/nLX5LHHnvMf5UkGzduTL788kv/FQDAEGACyI2CL2X8ZsyYkTz//PP+3mL65z//mSxdujR58skn3f/ryJEjLuDcsWOH/wkAgCHABJALZSsnTpw4KuOXp76+PtdtrWxpbJ9//nmyefPm5JVXXkk2bdrk7vvxj3/sgkwFzkXPzAJAbASYAKKyTN/evXtdAPbWW2/57xTX/v37kyVLliSLFy/29wxTkLl79+7k8uXL/h4AgBBgApEosNqzZ4//qnOdP38+efTRR5Pt27e7AGzOnDn+O8W1YsWKa4JL89Of/tTdSlGbCWCsqU1S2zQWCDCBCNSF+sADD/iv2p+6odetW1c2oFawNW/ePP9V5/rtb3/ruu0BYKx8/fXXrm1SG9VsBJhABD09PcmqVasqZrnaia6GNWhn/Pjxbf//1UlZo99V21kaLCrIDqcsKg22N2zYkBw+fNiVC4zFyR0A1PuitkltVLMRYAIZKcjQaOInnnjC39O+NJhFV8O9vb0jg13alYJCnZRt9LumJHr33XfdvgXZ4QCmm2++2e8N09c7d+50+3ocgkwAY0Ftk9ootVXNRIAJZKCAQ0GGBnr88Ic/9Pe2JwVVCxcudNP06Kq4nVlwuX79eldLqf+zaDCPjoNGlL///vvue8oOyIQJE9w2RJAJYKypbVIbpbaqmYtDEGACGWzdurXiII92osBIQZX+n6tXr/b3tq9Lly65UeM2QGncuHFue+7cOXccFDTaBcWiRYvc9pZbbnHbUgoyFagqg7Br1y5/LwA0j7VT6olplu9cGeL3AdRBNXcrV650U/FotHQ7Ux2iuor37dvX0AAe1ShKo78vqoGMcXJU5rHebLMGNL388stuv5HfF3v9WY4BADRKvS8qcdJ8vs2onyeDCTRAAzwUXKrrtN2DS52UFFyqK7gTAyN1g1twqRNzo6UQlulUmQFTGAFoNrVVarPUduWxIEUpAkygAZpEXNq9FlEUVMmyZcvcdqysXbvWBWaVblu2bHE/Z7WRlW71BogXL170e0mmAFvPa6/x4MGDbgsAzWRtlrVheSLABOqkIml1dSpYaDSbVRTKXip7p9qddpgwvRGnT592W2VwS0eK18tqdZVBULALAM1kF7pqw/LOYhJgAnX6wx/+4Lbd3d1u287sKlcDXjrVsWPH3DbGRPpTp04dCTKPHz/utgDQTNZ25Z3FJMAE6qArPqtHbPfaS40ctzkg77nnHrftRHYMJk2a5LZZNbOLCgBKqe1SG5Z3FpMAE6iDBQVjXY/YDJa5U8ZNmbdOFM4ZN3nyZL+XzbRp09xWpQfNKLQHgFLWhuV5oUuACaSkjJ5Nk5OmHtGWGLSbVsEpEhuIYl26jQprDYs20bjVX+oYZK2/NGGwfvLkSb8HAM1jbZjatLzOywSYQEoWINqo6lq0lOJbb73lvyoWBYU2Nc/tt9/utvVSdk4ZwB07dvh7hge36DgWJXNnGcy5c+e6bSw2mtyyxADQbNaW5ZX8IMAEUlJwJPfdd5/bplHUkdcffvih30uSO+64w++lp4yt1uru6uoaqWE0mgdS3ytCVtcy1nfffbfbxmKPV3psAKBZrLa+v7/fbWMjwARS0HQ9osLodp+aSM6fP+/3hqe1qJfNOVnrFnPidpsnM+b7k8frlPHjx/u94UwvADSbynXUpmkZW2vjYiLABFKwQuiHHnrIbduddQ1nrb9Eeba2uZw9e9bvAUBzWZuWx2AfAkygBmWwrCtz9uzZbtvurGs4du0hhoVZ1qINfALQPqxNUxunti4mAkygBpsQO+ZIYsB89tlnfg8AmkttmvVUnTp1ym1jIcAEanj77bfdNu/VbFQD8+qrr46a2khTHaUZCKPf7evrG/W7lW61hDWBsQe34CrVPsnhw4fdFs0Xft7COU+BTmJt25tvvum2sRBgAlWE3eN5rmaj4FBLEd56661ugI2eV1t1pWrU9dKlSyt2pSoI1e/eeOONo363t7fX/0SSDAwMuPtjd4GgcTY6XwX2aD4d98cee8x/NVwWwucDnWj69OluG7ubnAATqCLsMshrNRsFl2rcdu/e7boqLMuorZYVVKCoxvDZZ59194eU3dRJQdkw/Wzp71rXh62fDmA446+LtieffNI1qEeOHHGfsXDOVqBThMsex+wmJ8AEqjh69KjbqiHKg7qjbUBNpRHbv/jFL9xWE5+/++67bt/UGt1uXR+WhU3jwoULfg9oP+oJ2Lx5s5tkWoshiBpYBZn6nLT63KxAHqyNszYvBgJMoAoL/vIaPW4r/djKLuUoG1npw2+r7Vx//fVuW6qRQUmXL1/2e+npNXK7ekPr2r9/v7vwWrx4sb9nmIJM9SI08vcPFJ21cdbmxUCACVQQFv1PmzbN78X1j3/8w21rdb/feeedblv64besZ6X6TGss88rAAkWj0pHS4NLo81SpJwFoZ2EbF2vAGwEmUMHp06f9Xn71l7UykKZSJtK6wCst9XXw4EG3ffDBB902LzaAiNvwDQCKJGzjwrYvCwJMoIJjx465rU0n04qUiVF2UgMUNOWKBTfa6msFsKo1q2epw1rBLlBEyvJrxgWVMGhgXUi10OGURXv27PHfwVjS+2DviW7l6mPT/AzSsbbO2r6sCDCBCmxgjKYAylut1Vysq7tcsKsuP1EjOXHiRHeS/fWvf5189dVXbuBCpe7ASr7//e/7PaA96PPV09Mz8plWqYkNmNOI8hkzZoyasogFFVqDzl3vv/++/6o8/YzVsiObn/zkJ25bz6DQaggwgTLCycYnTZrk9+KzwT3/+te/3LYSq4mxE4BRw7l+/Xp3gtWIWOui1WCFtWvXjpp+AnEwOXexWHCpz4k+G1aPrIs2BZcaUa4gRt+zC7gJEya4LcZeuKxqJXPmzPF7yEIXWiZsAxtFgAmUcfbsWb+Xb0bv/vvvd1tdMaqBq8QG99x7771ua3bt2uW6x2OeYK+77jq/F49OVmlXJWplMSfntr+xVi7BaAeXLl1ytcr2GRk3bpzbnjt3zgWXO3fuHAliFi1a5La33HKL2wKdJGzrwjawUQSYQBknTpzwe+muoBulRs9Grf75z39221IKakTZztKMpHVlKBMTS9g9GB6HRij4UsZPV8axul3GSuzJuW2Al63og3xo8EJYJmINpy4Utm7dOurvXbXKem+VnQY6TdjWZT33CwEmUIatD501uxROjG6TopdSBkVBphq80oE6CmAsqFGXdynrYledqHXblt6UOaw3AI0xVYuylaoJDTN+RaVu1rwm5/7BD37g95A3faYssNd7mefFIxDTgZ6bku6+Qf9VfqzNszYwCwJMoAzLGmbJLml04/z58/1XwxmrcmuKK4Oimsl9+/ZdM1BHNX4KYiyoKfXII4/4vcoUACkArScImjt3rts2MumuZfoUUOu1t0MBfuzJucP6JgaUNM/Fixf93nC2Ep1kcChI6066Ry6+h/Z7DgzdW5/BA31JT3f3yAV85cc5kPSM/Ezl29CvjhjsCx939G3Ja0ky80dT/E/mx9o8awOzIMAESoSN/9133+336qdgRBmT8KZgpFJAoQavnoE6NnjBumzL3c6fP+/WMpdKGdRyssz7qed89NFHk+3bt7vX3g4F+LEn5w6X46SLvHlsfj9laQjsO8lg0tc9ayhIm5k8dXz43Hi8f2Yy8NqSZFZ3X+ogUwHqrCUbk5Mzn0qO+3NsxccZ/Hdy0u9W1LUlWbfA77eIsM3LOtCHABMoERY3t/KckH/84x/dVebq1av9PdfSla9NY2Rdg2mEqzrUe5JRsEV2qLr//ve/fi/fGl+MZvP7NWPqMbSOwb5VycaBJFnevzNZ4JOAUxbsTPqXD+0MbExWpel6PtAzFKAOPchQUPjyzgWJ5RL1OMe3dFV4nK5kS//oi/7hW3+ip+765c9GHueq5Un/NT8/fBt62tyFbV7WgT4EmECJsLuzleeEtO7rtJmYeupJwwxmjNGERaUscR6Tc1ugY1PmoDlsoFmeU48hP/WWogw7kGxXdDkUuC0sCdAWLFSYNxQb/umNmlnMA/tec9tyQeGUH81021GPM+VnyVP9LydrywSFg33PJa8NvZ6n1ubf5V2vsM1r7HhfRYAJlAjnNvzud7/r91qPBYy1Mow20GjZsmVum5YFPzFGExaRlSBYUBJzcm57zAdzXsITV4Wf68mTJ/s9FIGVoFSadzYcTHkN66rump5cU/gzdXrSpe3AqaT6jLaDyb99f3fZOsiyjzMlWWDp0lGGA96uLeuSFusdd8I2L+s8vwSYQIlw9JwyU61qzZo17sSrCaR1gi0dPKTA0wYaqZ6z3lrIhx9+2G0bGehTdBZc5jE5d3jSvuuuu/we8mb1l/rMUH9ZLBZg6lxUep7T5/H1118f+ZlrnDmVKH9Z1pQfJcO5x5PJv1P0ksvJcj9Yx+O0cvZSwjaPLnIgMhs9V0+X8lhQN/ZLL73kaiyPHj3qAiLrrtVN3bcyODhY+eRbxfTp0/1e3Hk2iyDPybnfe+89t2WgSXNZYG8zJKA4wtk4dJ7ThbNmxVD5igYvbtiwwX/32sGMg5Z6zGRK8rNfuhxlMnCqTFYvzYAeJ0328mTy3KhR6jcl3d09yYGUAXAM1vbVU7df1hUAIy5evHjlxhtvdLfe3l5/b+fSMdCx+P3vf+/vaYwd00OHDvl76mevJevto48+8o+Y3uOPP57p90O/+tWv3OO88847/h40g71/Wf4GMXZOnz595Zlnnhl5H7V/4sQJ/92r769u+ozpXC5neucN3z+v98oZd0/ozStr3O/Mu9J77TdHO9N7ZZ5//DVvXv3hM2/2Xlkzz557zdAjVjb8Wqo/19CF0KjXeebNNf55U7zGSMJzrR3HRnRcBlOZGGV2si5Zp9/X43RaZqfdffPNN34PYpnPdpgsvVHqBo81ObfOF8qQ67i2w/RNRWIjcZnhoJjUYxNO46b9cAo3u1+3cDo4G4CT2ZS1yaHj/cnyriR5bcms4exid3ey/d8/StY9NTxYqGyd5wg/2Gj5U0m13vEpU6aMGkSkUeova5R6MpBsXJV+SqVYsrSJHRNgqm5j3bp1bnqKG264IXPtk35fj6PH0+OW1oWgmL744gu/l20OzHahk7p1l2S9KMtKc4KGjUijt3oDxJiTcytAFc0TCrSKsDs2y61wRrq2Zyap5jCfsiDZeSg4nxw6lOzUMHHfDV9+2qFhw7WXXcmWBia+HAmSaw5GiiNs+7799lu/V7+OCDCVNdBVwaeffuoK8zVhcq3ap3D6kXIjqfT7ehw9nh5Xj082szls2hi7xQx8/ve///k9mCeeeMJtX3zxRbftNLEm59Z5RJlQZS/JogFNsmChm3OybHBmA4CWL8wwonsweeNPw9MgVR64ky572Yo++eQTv1e/tg8wFfQpy6iTeliYX426sMIuQY1c09VKOXo8W0taz0OQmT91jbTD8oNFob9xrQakz4UNgOoksSbnfuGFF9xWI9OBVjKSkct4a00LkuHpLl9L9gXLMorNbbl81ASZWvVnOHkRLuNYyYGeWcnGga5ky/GdFYPUVNnLwT63jGW59cZHBiplCoSbr60DTHVbW6OwdevWVNkHBYhaR9mW39NaympUd+zY4X/iWnpcPb7o+eguz19e9Wvhe8cSfldppLouovTZyLp8WNHEmJxbWXZlL7ds2ULtJdBkC9ZtGQrvVDt5dTT24IGe5DnFl8v7G1ohZ3DwQNIzFIgueU3B5aEqmUmfvez6ZfKzFNnLgY2rkr5gyLjWPl+l30+WJ/3NWMpnSNj2ZYln2jrA3LVrl9vqpJ4mc6kDqSlIVCelLJmoiFhBphqZal2xenyrr7LnLSpNARG767koPvvsM7+HUnYRtW3bNrftBGF5TKOTc+sxFi5c6LrYVUcKFI2VIxXWyACdk8mSWcP/l1lLTiYztxxPvqwzaFNg6n5/1XNJ8sv+5PiX1YLLoZ932Uv1jq+tWJ/paOWfLcvdIKI/2SAiPc9zfxp6nXqeyhnSPGVqE/1o8raj6QtsmH3aaUU0FUt/f7//arQ33njD3arR89hzhtMnFI1NUdDq03nYsY75OsPpGbJOR9OO7HOlKULSunTp0sgxrfT5alX6zOt1a9qTRmiKD/1uOG0KUDT2+UVnCGMZtYmNatsMpmUTlTVIk70UdQNq4E456h7UrRo9j424tecvok5cuQXpKKM/MDCQnDx5subsCepKV/YuLC9ZuXKly4wXpZvdMpiNTM5tgwtnzpzpJsTPMkAIAIqmLQNMNXo2b91DDz3kts1iz6fnz1K7MFbUPd7JwqWx0l6YdBpbQUh1Oh988IG/dzR17Wit7q6urpEaRqPuYn1PP9PqZRh2sdXIlFW6yNR8fCq30f8VAIogbPvCqfvqlWuAqSyFpvvRwACrJ9DXeWcvwkZv4sSJfq8yBYI29U1fX5+/d5j9H+z11wrAwuer1Pi2Ih0DZaSUYTIKBOz/bbeQBkFpDWwdH/2u/Yze70rHyeo77RYGGNq3v5Vqj1GNfid8jHpHPduFCarT8VU9YaXpdsKRpdVurT5dT5bXuX379pq9HgDQykoTBHXxXeXRqdZK/feqa1QNlqhf35ZJy7NGUc9p9QO16uisRsp+Xjdbwi2s47RbrXq/sHah0eX1wjrALLdGawjt96v9X8NjHC55p+W87HhWqtPTz4TPUe49sFu1+g/7mSyPUSr8PQAANZidKEZbmEsGUxktZcLURaS6RmU7RGlXmwNOo7XzEmZIq3VzKmunhfP1mpSl0NREcvnyZVc/pdeoidT1PautnDBhgttWEj5fUerMGmHzhO7bt2/UtCvqPn366afdvq58wlG4Rj9jzp07594DrWxi2SIdc8v8qIuyVqlBjMcAAAAR+UAzGmWzFPE+/vjj/p7Rwgxfoxm2WuzxdatGmbRwVKtlDpWdUzYsHPWpLJm+Z9nYatI+f6uy114tg2k/U+54hKOGKz2GfV+3ctnsMHuc5jH0XpZK8xilwscEAFw9L6JzxGgLv6N/fKwZhdW9aaWVchMKK6unAn+p9DNZWcZUlM1KS3WEVoOnDFijgzwaff5WYa9f2clGa+RqPYZ9X1nuciP3ddysnjXPxygV670LHwdIK83fnOrEY8z0kOYcx99x8aX5m4r1PjfzuVBbrDas0ceJ2kWubmUbVDF9+nS3rea6665z28G+bvefqevW3Zdcu6BS43QALbhUwNJocIn6VJq6Re9xWjEeAwAAxBM1g6kRvKq9VC2jrYRTSkGoLd+YJUtYTRhYpI28VSuoKVVkcHAw05x1jTx/K7HXnybrp9rG//znP+69/Oqrr5LDhw+PGrldK/tY7Tlq/UyMxyhlPy9FfO8AIDY7L3JO7Bwx2sKoGUwtqSizZ89223LOnz/v92rPMzic2exJUqw3P4oN1pG0B+b06dNuq8E8WYLL8PnC11EPdYHpzc16y3OQkQJLvU5NJP36668nt99+e7Jo0aJk586dnIQAAOhw0QJMBRXWxTxt2jS3LefgwYNu22jwlca4ceP8XpJcunTJ71V37Ngxt7XsaqPC5wtfRztR4KrAUnVguqjQfH/KDuqCgdVKAABAtADzww8/9HtJcsstt/i90ZT1siBU2a68hKtuXLhwwe9VZ5OJTpo0yW0bFT5fI6t/iCawVsCe9ZZXHammoRLVqmrpQAAAgFC0ADPs+lb3bDn79+93W2Uv8wxM7rrrLr83OvCtJJyrcfLkyX6vMeHzha+jiE6cOOH3RrNgvFK2UnW2AACgc0ULMK2LuRIFHZqcW5Nfr1692t+bDwU+NjG61YVWY/WXem1Zu3jt+bLWco6lLVu2uK26wK2O05aEFDu2e/fudduQfl6ZzaIukddI/S4AAO0iXJjE4oFSNtYjXO65VLQAM1yvUqPJw8ZZL0C1jQpMNAikGYGXramtLvlag10sgzl37ly3bZSex0oAwjW9i6a7u9vvJW7OUv0Rbd26Nfn5z3/u7guPreYO1ahxvcdaz33btm3Jhg0bRo5luSBUwaop930Jf+btt9/2e1fV+r6keZ5SjdTvAshOSQhdxFZrsDDcnuo40VOEvHzzzTd+L5soAWYYwGk6mM8++8xNcG0RrgIATaquwSDlgstK82DO2jgw9N3XkiVlvldrHkx1wVfLtIVs0uJGayaNPY+et8i1iXrteh8tC6krmPDCQN8fGBhw2T4FmZpcX+/xgw8+eM17bN+3KyIFffPnz3f7Uvp9Kf0ZXbyEP6MLmGrflzTPA2Ds6TOpC1UlIW644YbClxblTcdHx0nHS8etE89pOr9fExNwu+Y21qLMg6krqoULF7rASgFGLAo8Z22cmfR/uTNZ4O+rhz54Gu0sec25aRRk2wpFWefRxNgJV0nJ+28G6HQ2L7IuZtVLwuctPbU569evdz1IKs0qclKjXsrgquQO1TVa5hXGM0owaeBxQxRgZmVreIfresdwpnfe0OOuufKm/7oRth516driMelx9fh6nnLraqM43njjDfc+6lZufXOkp+On46nzg30+7LOo9f4/+ugj/5MogtjvZzPOzUWjY/jMM89cOXTokL+nuk5te/T/1d8c8qHPun2+9ZlvVJQA017IO++84++JI0aAKXmeyHRC6MQPeLvSid3+ntOe5HEt+0zophPUpUuX/Hc4xkUU+/3Uedh+hwuNK+54KmCq9ziKjp/9XicE6hb80N7mJ9Y5OnMNZlj/kXWKn7yo60DdnbfddpvrMlcNX9a6Ff2+HkdpZD2uHr+TuiiAamy5UKvlDeuBNCm/7heV1jBav/XFfj937drltup+6/RucZWYacxCo12+On6auUPsuLazoQDTbWlvW1/mAFPrUJtWrjvUh1D1oapV+frrr0e97kbo9/U4tpINtUPt4Y477vB7SXL58mW/h0YoEKm0/vusWbP8XpKcOnXK76GVxXo/VXdps47kueBGq9Nx0MBDDQ5VO6KBsI2677773FbHtd1Hl2s1wDxXAsToxGHYJtYrc4CpzJ1Umiup1eiqZ8WKFcmcOXP8PY3R7+txuIpqX+EE/KiPsli7d+/2X10rzIARyLe+mO+nZds0KLSTL8y1OMmjjz7qEhRqR7K0STqONmuKHd92pL9DzQiiGUs6idoi9SJoEKouSvR50037GvAUzuQTg2YCiiFzgKkgS296w6OMqpiy9tDQYzc2ghxoBJno5rv++uv9HtpBtfdTmREFCPLQQw+5baeqlhFuhB1PHd+sJWCtyrLjnTSVlYLIrq4ut506dWry0ksvuZhLN12gqLRCpXp5zR+bpU2MMg8m0I5suiLEF15xt2rtNtJL+35+8MEHfi9xdYfVKEjS4g3K1ChzE9L3lLmxLI7ViHay8HiGx7mdqMdUgXknTQM4FvXssdo+AkygBPU9+fvb3/7mtiqtYc7Y4kv7fp47d87vjV41q5QCyJ6enpFaTTV4tjKXagw1WNMGxagBVpBp3+9U4fEMj3M70Xu+ZMkS/1XnGKt69qxtIQEmUCI8UceubcFw8GDLjT7yyCNui+Kq5/0MP0+Vut4suFT3nzIy1siptlO1aJs3b3YDYvQ9LWphbDxApwqPZzuet6wm/p577nHbTqG/82bWs4d/O9UuAtMgwARKhEuGfvvtt34PsdhUKgoSyF4WXz3vp2Ukq7l06ZLLUlnGxho5NZ4vvPCCW7bWBsSEz3frrbf6PaQ5zkXz3nvvua3qEFFejHr2sM3Lunw2ASZQYvz48X4vST755BO/hxg0d6waP410zTqTA8ZeHu+nAojFixf7r5Lk7NmzbquaS2VKKwWx3/ve9/xefVTfqSxQ1hu9HfnSVE7VZqtR5rsTa3bDv7sY9exhmxe2hY0gwARKhN0COjEhDtXIKUBQl2cYQKCYmvV+2qjzuXPnXjMtXDiogcFixVVrcIrOw/o7uP/++/09o1lZRSfW7MauZw/bPLrIgcjCWqZY84F1Op3k58+f74KRTZs2+XtRVM16P8O5aMtNyv7hhx+6reaAbLRx1RR7CnCy3pjirH6aWmfdunVu8vRqbGGU6dOnu23IgstOrNnV/z12PXvY5mX9mybABMqwkxRTFWWnk6BO8hoJ+Zvf/Mbfi6LK8n7a50rU4NdiywJWmpTdRs0+8MADbtvJwuMZHudWo9epwFJZRE2to8ykgqRqfw9Hjx51fwPq4i7VyTW7edSzW5sX42+IABMo48477/R76RpCVPbss8+6bqmtW7eWbSBQLFnez7DLTYFBLceOHXPbSgFkf3+/25bLbHWa8Hhm7drMk17niRMnkqeffnpUFrFaFlNBT6WJ+ZtZs9tK9bp51D+HbV3YBjaKABMoY9KkSX4vSS5evOj3UC+d5JWh0GTAdCEWX9b3MxyVeuHCBb9XmdXUhZ9Ho0yqDdYo9/1OEx7PrKN/86S/G5UlqJ5W+7bEpV0slLIyiWnTprltLZ1Qs5tX/XPY1sX4TBFgAmWEJx9GkjdGdXoqrNdJsNIkwboKz2uJM8QV4/0Ml/iz+slKwvrLcsGA1eWJskKi19hOI4TrER7PIi2laDWEet/K/e3UMz1R3jW7rVCvm2f9c9jWxQjACTCBMsKTj7pzUD/V6cnq1avdtpS6iaxxQeuL8X7qc2UZK007U43VX0q5YKB0Umk1vOpKT5vpajUKPIyys/Wy49lo8DRWlGW0v4kXX3zRbUP6f/X29vqvqmv3mt2869nDti7G3xABJlCBzbl2+PBht0V6ykRYJklThJTWIOk2Y8YM9/2sc60hfzHfTwtC1ZVZrRbNslGV5j4MJ5XW8ytoUDBStIm4dQz0f92xY4e/Z/gY6ZinrdXTz1nXcBEv2pYtW+a2+hvThYJRQKX/17333uvvqa7da3bzrme3tq7afKP1IMAEKrA6Jn2gw+wCaiuXiaiklQckYFjM9zPMWO3du9dty7HRrJXqCTWwwRpCPd7AwMA1NXetzgLzrq6ukXpToxHW+p5+plrZgdhx1HEo2jEQvZfKyokGrRgrg0hbD9jONbt517OHxydWDe93rgzx+wACygpYVkaZkSKeuIFWpMZMmVDRSOI8GsxOEZ6nNM9jkbrHQwqiFVSLLhaUidao7S+++CJVraGywArUpdxx0MAY1S6KJQyULT1//vxIcNuqrPyjWt2l6p/1f65UH12LPYfE+jsigwlUoEbPTjxWuwMgOzVeVjO4fv16F3CifjpuOn6i41nU4FIUGNn51jJpymLPnj3b7dfSzjW7zahntzZO70GsvyMCTKAKO+FZYwggDvUI6HOlYEIrsRBk1kdBhY6bjl+79LBownRRYKmMnMycOdNta2nXmt1m1bNbGxczm0uACVRhxeWqfaEOE4hLQZG6yG+77TbXeCqoINCsTsdHx0lBhY6bjl+7lO+Ek6krI6dgJ235RLvW7Dajnl1tmw0SSzugKg1qMIEadIUo7ZIlAFqRuiz//ve/u8Ap1sok7Ui1hAoqFQi04/lIwbN192rAT8yJxFFeWH8ZM5FCBhOoQYXVosYPQD4ULK1YsYLgsgYdHx2ndr3YDQepsARoc1jbZm1dLASYQA0PP/yw21odDAAgHxpgYl3Z9Bg1h7Vt1tbFQhc5UIO6DCZOnOj2bfoMAACKLpzeSVM2WUlYDGQwgRr0gbMralsXFwCAorM2TctxxgwuhQATSKG7u9ttbakxAACKztq0mKPHDQEmkIJqgTRlhmpVbL41AACKSm2Z2jS1bXnUuxJgAinZJMB0kwMAiu7w4cNuq1kJ8sAgHyClcLAPk64DAIrMai5jD+4xZDCBlMLBPprsGACAItISlKI2LY/gUggwgTosWrTIbV9//XW3BQCgaPbu3eu21qblgQATqIPWxdUVn9Zt1fJaAAAUidoutWFqy9Ku9d4IAkygTnbFd+jQIbcFAKAompG9FAJMoE6Wxdy4cWPy8ccf+3sBAGhtarOef/753LOXQoAJNMCu/F599VW3BQCg1W3bts1t885eCgEm0ABd+b3yyivuSpBaTABAq7PaS7VdeWcvhXkwgQyWLl2a3Hbbbcn27dv9PQAAtB61V7J79263zRsBJpCB5sOcP3+++8BquS0AAFqNloRUgDkwMJBMnTrV35svusiBDObMmZP09va6D+7nn3/u7wUAoDVoYI/aKLVVzQouhQwmEIE+vDNnzkw2bdrk7wEAYOytW7cu+fTTT5vWNW4IMIEIlL2cMmWKK55evHixvxcAgLGzZ8+eZOXKlcng4GBy8803+3ubgy5yIAJ9cI8cOeK/AgCgNahtanZwKWQwAQAAEBUZTAAAAERFgAkAAICoCDABAAAQFQEmAAAAoiLABAAAQFQEmAAAAIiKABMAAABREWACAAAgKgJMAAAAREWACQAAgKgIMAEAABAVASYAAACiIsAEAABAVASYAAAAiIoAEwAAAFERYAIAACAqAkwAAABERYAJAACAiJLk/wHR8KT/Gp6d/gAAAABJRU5ErkJggg==)"
      ],
      "metadata": {
        "id": "VOk3gnnfjuAI"
      }
    },
    {
      "cell_type": "markdown",
      "source": [
        "![image.png](data:image/png;base64,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)"
      ],
      "metadata": {
        "id": "shhvuseukOFQ"
      }
    },
    {
      "cell_type": "code",
      "source": [
        "def left_i_j(sample_coef):\n",
        "  alpha = 0.05\n",
        "  return math.tanh(math.atanh(sample_coef) - scipy.stats.norm(0, 1).ppf(1 - alpha/2) / (n - 3)**(1/2) - sample_coef / (2 * (n -1)))\n",
        "\n",
        "def right_i_j(sample_coef):\n",
        "  alpha = 0.05\n",
        "  return math.tanh(math.atanh(sample_coef) + scipy.stats.norm(0, 1).ppf(1 - alpha/2) / (n - 3)**(1/2) - sample_coef / (2 * (n -1)))\n",
        "\n",
        "left_1_2 = left_i_j(np.corrcoef(s_1, s_2)[0,1])\n",
        "left_5_2 = left_i_j(np.corrcoef(s_5, s_2)[0,1])\n",
        "left_10_2 = left_i_j(np.corrcoef(s_10, s_2)[0,1])\n",
        "left_n_2 = left_i_j(np.corrcoef(s_n, s_2)[0,1])\n",
        "\n",
        "right_1_2 = right_i_j(np.corrcoef(s_1, s_2)[0,1])\n",
        "right_5_2 = right_i_j(np.corrcoef(s_5, s_2)[0,1])\n",
        "right_10_2 = right_i_j(np.corrcoef(s_10, s_2)[0,1])\n",
        "right_n_2 = right_i_j(np.corrcoef(s_n, s_2)[0,1])\n",
        "\n",
        "('left_1_2: ', left_1_2, 'right_1_2: ', right_1_2, 'left_5_2: ', left_5_2, 'right_5_2: ', right_5_2, 'left_10_2: ', left_10_2, 'right_10_2: ', right_10_2, 'left_n_2: ', left_n_2, 'right_n_2: ', right_n_2,)"
      ],
      "metadata": {
        "colab": {
          "base_uri": "https://localhost:8080/"
        },
        "id": "EFDgY-RCjgo6",
        "outputId": "a0beb2da-0f5b-4ea3-f2f9-b340a144f7e3"
      },
      "execution_count": null,
      "outputs": [
        {
          "output_type": "execute_result",
          "data": {
            "text/plain": [
              "('left_1_2: ',\n",
              " 0.9760743961505438,\n",
              " 'right_1_2: ',\n",
              " 0.9891352872324759,\n",
              " 'left_5_2: ',\n",
              " 0.7994090431640681,\n",
              " 'right_5_2: ',\n",
              " 0.9042372060230225,\n",
              " 'left_10_2: ',\n",
              " 0.26471012446386255,\n",
              " 'right_10_2: ',\n",
              " 0.5844369966163651,\n",
              " 'left_n_2: ',\n",
              " -0.2860438263013709,\n",
              " 'right_n_2: ',\n",
              " 0.10338545338364642)"
            ]
          },
          "metadata": {},
          "execution_count": 328
        }
      ]
    },
    {
      "cell_type": "code",
      "source": [],
      "metadata": {
        "id": "VT4av0JvmzI7"
      },
      "execution_count": null,
      "outputs": []
    },
    {
      "cell_type": "code",
      "source": [
        "max1 = np.max(s_1)\n",
        "min1 = np.min(s_1)\n",
        "omega1 = max1 - min1\n",
        "l1 = int(1 + 3.322 * math.log10(n))\n",
        "h1 = omega1 / l1\n",
        "count1, int1 = np.histogram(s_1, l1) #количество попаданий и интервалы группировки\n",
        "\n",
        "max2 = np.max(s_2)\n",
        "min2 = np.min(s_2)\n",
        "omega2 = max2 - min2\n",
        "l2 = int(1 + 3.322 * math.log10(n))\n",
        "h2 = omega2 / l2\n",
        "count2, int2 = np.histogram(s_2, l2)\n",
        "\n",
        "max5 = np.max(s_5)\n",
        "min5 = np.min(s_5)\n",
        "omega5 = max5 - min5\n",
        "l5 = int(1 + 3.322 * math.log10(n))\n",
        "h5 = omega5 / l5\n",
        "count5, int5 = np.histogram(s_5, l5)\n",
        "\n",
        "max10 = np.max(s_10)\n",
        "min10 = np.min(s_10)\n",
        "omega10 = max10 - min10\n",
        "l10 = int(1 + 3.322 * math.log10(n))\n",
        "h10 = omega10 / l10\n",
        "count10, int10 = np.histogram(s_10, l10) \n",
        "\n",
        "maxn = np.max(s_n)\n",
        "minn = np.min(s_n)\n",
        "omegan = maxn - minn\n",
        "ln = int(1 + 3.322 * math.log10(n))\n",
        "hn = omegan / ln\n",
        "\n",
        "countn, intn = np.histogram(s_n, ln) "
      ],
      "metadata": {
        "id": "SwSqJ2sHd8hM"
      },
      "execution_count": null,
      "outputs": []
    },
    {
      "cell_type": "code",
      "source": [
        "fig = plt.figure()\n",
        "ax = fig.add_subplot(111)\n",
        "ax.hist(s_1, bins=l1, weights=np.ones_like(s_1)/(n * h1), edgecolor='grey', color='darkgrey')\n",
        "x = np.arange(-0.6, 4.8, 0.001)\n",
        "ax.plot(x, scipy.stats.norm.pdf(x, m[0], sigma[0][0]), color='black')"
      ],
      "metadata": {
        "colab": {
          "base_uri": "https://localhost:8080/",
          "height": 447
        },
        "id": "WVCjPl9qA2mh",
        "outputId": "19788246-1f31-449f-d54e-383eea0ee382"
      },
      "execution_count": null,
      "outputs": [
        {
          "output_type": "execute_result",
          "data": {
            "text/plain": [
              "[<matplotlib.lines.Line2D at 0x7f5f7f106670>]"
            ]
          },
          "metadata": {},
          "execution_count": 340
        },
        {
          "output_type": "display_data",
          "data": {
            "text/plain": [
              "<Figure size 640x480 with 1 Axes>"
            ],
            "image/png": "[encoded data removed]"
          },
          "metadata": {}
        }
      ]
    },
    {
      "cell_type": "code",
      "source": [
        "fig = plt.figure()\n",
        "ax = fig.add_subplot(111)\n",
        "ax.hist(s_2, bins=l2, weights=np.ones_like(s_2)/(n * h2), edgecolor='grey', color='darkgrey')\n",
        "x = np.arange(-0.6, 4.8, 0.001)\n",
        "ax.plot(x, scipy.stats.norm.pdf(x, m[1], sigma[1][1]), color='black')"
      ],
      "metadata": {
        "colab": {
          "base_uri": "https://localhost:8080/",
          "height": 447
        },
        "id": "fLhISE6qCWUf",
        "outputId": "ee99cf65-c217-47a8-abe3-761269d76be0"
      },
      "execution_count": null,
      "outputs": [
        {
          "output_type": "execute_result",
          "data": {
            "text/plain": [
              "[<matplotlib.lines.Line2D at 0x7f5f7f43abb0>]"
            ]
          },
          "metadata": {},
          "execution_count": 341
        },
        {
          "output_type": "display_data",
          "data": {
            "text/plain": [
              "<Figure size 640x480 with 1 Axes>"
            ],
            "image/png": "[encoded data removed]"
          },
          "metadata": {}
        }
      ]
    },
    {
      "cell_type": "code",
      "source": [
        "fig = plt.figure()\n",
        "ax = fig.add_subplot(111)\n",
        "ax.hist(s_5, bins=l5, weights=np.ones_like(s_5)/(n * h2), edgecolor='grey', color='darkgrey')\n",
        "x = np.arange(-1.4, 4.9, 0.001)\n",
        "ax.plot(x, scipy.stats.norm.pdf(x, m[4], sigma[4][4]), color='black')"
      ],
      "metadata": {
        "colab": {
          "base_uri": "https://localhost:8080/",
          "height": 447
        },
        "id": "VoA2Ff-DC6FY",
        "outputId": "46254d12-8045-4180-90ac-9ff4535b39f4"
      },
      "execution_count": null,
      "outputs": [
        {
          "output_type": "execute_result",
          "data": {
            "text/plain": [
              "[<matplotlib.lines.Line2D at 0x7f5f809c7a00>]"
            ]
          },
          "metadata": {},
          "execution_count": 343
        },
        {
          "output_type": "display_data",
          "data": {
            "text/plain": [
              "<Figure size 640x480 with 1 Axes>"
            ],
            "image/png": "[encoded data removed]"
          },
          "metadata": {}
        }
      ]
    },
    {
      "cell_type": "code",
      "source": [
        "fig = plt.figure()\n",
        "ax = fig.add_subplot(111)\n",
        "ax.hist(s_10, bins=l10, weights=np.ones_like(s_10)/(n * h10), edgecolor='grey', color='darkgrey')\n",
        "x = np.arange(-1.1, 5, 0.001)\n",
        "ax.plot(x, scipy.stats.norm.pdf(x, m[9], sigma[9][9]), color='black')"
      ],
      "metadata": {
        "colab": {
          "base_uri": "https://localhost:8080/",
          "height": 447
        },
        "id": "COeE59f2Dbok",
        "outputId": "622deafd-464b-4512-9132-46c9b3d5a3f8"
      },
      "execution_count": null,
      "outputs": [
        {
          "output_type": "execute_result",
          "data": {
            "text/plain": [
              "[<matplotlib.lines.Line2D at 0x7f5f809512e0>]"
            ]
          },
          "metadata": {},
          "execution_count": 344
        },
        {
          "output_type": "display_data",
          "data": {
            "text/plain": [
              "<Figure size 640x480 with 1 Axes>"
            ],
            "image/png": "[encoded data removed]"
          },
          "metadata": {}
        }
      ]
    },
    {
      "cell_type": "code",
      "source": [
        "fig = plt.figure()\n",
        "ax = fig.add_subplot(111)\n",
        "ax.hist(s_n, bins=ln, weights=np.ones_like(s_n)/(n * hn), edgecolor='grey', color='darkgrey')\n",
        "x = np.arange(-1.9, 3.35, 0.001)\n",
        "ax.plot(x, scipy.stats.norm.pdf(x, m[n-1], sigma[n-1][n-1]), color='black')"
      ],
      "metadata": {
        "colab": {
          "base_uri": "https://localhost:8080/",
          "height": 447
        },
        "id": "janZzOJtDhNO",
        "outputId": "adbd3079-b3ea-4bab-b3ef-7010eae0a54e"
      },
      "execution_count": null,
      "outputs": [
        {
          "output_type": "execute_result",
          "data": {
            "text/plain": [
              "[<matplotlib.lines.Line2D at 0x7f5f7fa579a0>]"
            ]
          },
          "metadata": {},
          "execution_count": 348
        },
        {
          "output_type": "display_data",
          "data": {
            "text/plain": [
              "<Figure size 640x480 with 1 Axes>"
            ],
            "image/png": "[encoded data removed]"
          },
          "metadata": {}
        }
      ]
    },
    {
      "cell_type": "code",
      "source": [
        "((math.sqrt(np.std(s_1)), math.sqrt(sigma[0][0])), (np.mean(s_1), m[0]))"
      ],
      "metadata": {
        "colab": {
          "base_uri": "https://localhost:8080/"
        },
        "id": "Wa58jFzcHhoq",
        "outputId": "91684fa0-cbac-40d2-d92f-55de6bf0ca5b"
      },
      "execution_count": null,
      "outputs": [
        {
          "output_type": "execute_result",
          "data": {
            "text/plain": [
              "((1.00765074652924, 1.0), (1.9892976799931787, 2.0))"
            ]
          },
          "metadata": {},
          "execution_count": 335
        }
      ]
    },
    {
      "cell_type": "code",
      "source": [
        "((math.sqrt(np.std(s_2)), math.sqrt(sigma[1][1])), (np.mean(s_2), m[1]))"
      ],
      "metadata": {
        "colab": {
          "base_uri": "https://localhost:8080/"
        },
        "id": "uYzvHFkIH0hN",
        "outputId": "2ad0d7b2-e270-4dbe-f3e7-a72340de7b65"
      },
      "execution_count": null,
      "outputs": [
        {
          "output_type": "execute_result",
          "data": {
            "text/plain": [
              "((1.0181642231393522, 1.0), (1.9519248733987098, 1.9753099120283326))"
            ]
          },
          "metadata": {},
          "execution_count": 336
        }
      ]
    },
    {
      "cell_type": "code",
      "source": [
        "((math.sqrt(np.std(s_5)), math.sqrt(sigma[4][4])), (np.mean(s_5), m[4]))"
      ],
      "metadata": {
        "colab": {
          "base_uri": "https://localhost:8080/"
        },
        "id": "ZaipnEWxH4aR",
        "outputId": "c2818838-66f7-4a50-92a5-4ec6ebdc854d"
      },
      "execution_count": null,
      "outputs": [
        {
          "output_type": "execute_result",
          "data": {
            "text/plain": [
              "((1.0297938971504286, 1.0), (1.8376657631207574, 1.9048374180359595))"
            ]
          },
          "metadata": {},
          "execution_count": 337
        }
      ]
    },
    {
      "cell_type": "code",
      "source": [
        "((math.sqrt(np.std(s_10)), math.sqrt(sigma[9][9])), (np.mean(s_10), m[9]))"
      ],
      "metadata": {
        "colab": {
          "base_uri": "https://localhost:8080/"
        },
        "id": "sFmdDJnvH7nl",
        "outputId": "47d669dd-97e0-4391-8f21-3c167b9fb62f"
      },
      "execution_count": null,
      "outputs": [
        {
          "output_type": "execute_result",
          "data": {
            "text/plain": [
              "((1.0351994741387585, 1.0), (1.7927436426845071, 1.798516218759377))"
            ]
          },
          "metadata": {},
          "execution_count": 338
        }
      ]
    },
    {
      "cell_type": "code",
      "source": [
        "((math.sqrt(np.std(s_n)), math.sqrt(sigma[n-1][n-1])), (np.mean(s_n), m[n-1]))"
      ],
      "metadata": {
        "colab": {
          "base_uri": "https://localhost:8080/"
        },
        "id": "qm-wXQc8H-zr",
        "outputId": "a471719c-3ce1-41c6-8967-d1f2e523dbdb"
      },
      "execution_count": null,
      "outputs": [
        {
          "output_type": "execute_result",
          "data": {
            "text/plain": [
              "((1.0246230013813984, 1.0), (0.9787784586893079, 1.0841629902573104))"
            ]
          },
          "metadata": {},
          "execution_count": 339
        }
      ]
    }
  ]
}
